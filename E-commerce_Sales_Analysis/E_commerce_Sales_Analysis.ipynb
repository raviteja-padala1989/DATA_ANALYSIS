{
 "cells": [
  {
   "cell_type": "markdown",
   "id": "7deca809",
   "metadata": {},
   "source": [
    "# E-commerce Sales Analysis"
   ]
  },
  {
   "cell_type": "markdown",
   "id": "7a333a79",
   "metadata": {},
   "source": [
    "### Objective: \n",
    "\n",
    "To comprehensively analyze sales data from an e-commerce platform and derive actionable insights."
   ]
  },
  {
   "cell_type": "markdown",
   "id": "e2734558",
   "metadata": {},
   "source": [
    "## **Contents:**\n",
    "\n",
    "1. Import libraries and dataset\n",
    "2. About the dataset\n",
    "3. Descriptive Statistics\n",
    "4. Preprocessing date column\n",
    "5. Revenue analysis\n",
    "    - Total revenue generated\n",
    "    - Month Wise Revenue analysis\n",
    "    - Week Wise Revenue analysis - April month\n",
    "    - Week Wise Revenue analysis - May month\n",
    "    - Week Wise Revenue analysis - June month\n",
    "    - Day wise revenue analysis\n",
    "6. Product/Category analysis\n",
    "   - Top 10 Products by Revenue generation\n",
    "   - Most costly Order\n",
    "   - Most costly Category/product\n",
    "   - Max, Min, Average Order value\n",
    "7. Geographical analysis\n",
    "   - Popular categories by state\n",
    "   - Popular categories by city\n",
    "   - Top ship cities by revenue\n",
    "   - Top ship states by revenue\n",
    "8. Promotion analysis\n",
    "   - Average order value vs Average order value with promotion\n",
    "   - City with the most promotion-ids usage\n",
    "   - Top 10 cities with promotion-ids usage\n",
    "   - Categories ordered with promotion-ids\n",
    "9. Cancellation analysis\n",
    "   - Categories vs Cancellations\n",
    "   - City vs Cancellations\n",
    "   - Month vs Cancellations\n",
    "10. Summary \n",
    "11. Conclusion"
   ]
  },
  {
   "cell_type": "markdown",
   "id": "945f188b",
   "metadata": {},
   "source": [
    "# Import libraries and dataset"
   ]
  },
  {
   "cell_type": "code",
   "execution_count": 1,
   "id": "cc2d735d",
   "metadata": {},
   "outputs": [],
   "source": [
    "#import libraries\n",
    "\n",
    "import pandas as pd\n",
    "import numpy as np\n",
    "import seaborn as sns\n",
    "import matplotlib.pyplot as plt\n",
    "import warnings\n",
    "warnings.filterwarnings('ignore')"
   ]
  },
  {
   "cell_type": "code",
   "execution_count": 2,
   "id": "237ef13a",
   "metadata": {},
   "outputs": [],
   "source": [
    "#load dataset\n",
    "\n",
    "df = pd.read_csv(\"Amazon_Sale_Report.csv\")"
   ]
  },
  {
   "cell_type": "code",
   "execution_count": 3,
   "id": "e0f98785",
   "metadata": {},
   "outputs": [
    {
     "name": "stdout",
     "output_type": "stream",
     "text": [
      "<class 'pandas.core.frame.DataFrame'>\n",
      "RangeIndex: 128975 entries, 0 to 128974\n",
      "Data columns (total 23 columns):\n",
      " #   Column              Non-Null Count   Dtype  \n",
      "---  ------              --------------   -----  \n",
      " 0   index               128975 non-null  int64  \n",
      " 1   Order ID            128975 non-null  object \n",
      " 2   Date                128975 non-null  object \n",
      " 3   Status              128975 non-null  object \n",
      " 4   Fulfilment          128975 non-null  object \n",
      " 5   Sales Channel       128975 non-null  object \n",
      " 6   ship-service-level  128975 non-null  object \n",
      " 7   Style               128975 non-null  object \n",
      " 8   SKU                 128975 non-null  object \n",
      " 9   Category            128975 non-null  object \n",
      " 10  Size                128975 non-null  object \n",
      " 11  ASIN                128975 non-null  object \n",
      " 12  Courier Status      122103 non-null  object \n",
      " 13  Qty                 128975 non-null  int64  \n",
      " 14  currency            121180 non-null  object \n",
      " 15  Amount              121180 non-null  float64\n",
      " 16  ship-city           128942 non-null  object \n",
      " 17  ship-state          128942 non-null  object \n",
      " 18  ship-postal-code    128942 non-null  float64\n",
      " 19  ship-country        128942 non-null  object \n",
      " 20  promotion-ids       79822 non-null   object \n",
      " 21  B2B                 128975 non-null  bool   \n",
      " 22  fulfilled-by        39277 non-null   object \n",
      "dtypes: bool(1), float64(2), int64(2), object(18)\n",
      "memory usage: 21.8+ MB\n"
     ]
    }
   ],
   "source": [
    "df.info()"
   ]
  },
  {
   "cell_type": "markdown",
   "id": "4c0994bc",
   "metadata": {},
   "source": [
    "## About the dataset\n",
    "\n",
    "\n",
    "| Attribute          | Description                                             |\n",
    "|--------------------|---------------------------------------------------------|\n",
    "| Order ID           | Unique identifier for each order                         |\n",
    "| Date               | Date of the order                                       |\n",
    "| Status             | Current status of the order (e.g., Shipped, Cancelled, Delivered to Buyer, etc.) |\n",
    "| Fulfilment         | Who fulfilled the order (e.g., Amazon, Merchant)        |\n",
    "| Sales Channel      | Channel through which the order was made (e.g., Amazon.in) |\n",
    "| ship-service-level | Shipping service level (e.g., Standard, Expedited)       |\n",
    "| Style              | Style of the product                                    |\n",
    "| SKU                | Stock Keeping Unit, unique identifier for each product   |\n",
    "| Category           | Category of the product                                 |\n",
    "| Quantity           | Quantity of products ordered                            |\n",
    "| Currency           | Currency in which the transaction was made              |\n",
    "| Amount             | Amount of the transaction                                |\n",
    "| ship-city          | City where the product was shipped                      |\n",
    "| ship-state         | State where the product was shipped                     |\n",
    "| ship-postal-code   | Postal code where the product was shipped                |\n",
    "| ship-country       | Country where the product was shipped                    |\n",
    "| Promotion IDs      | Promotion IDs if any                                    |\n",
    "| B2B                | A boolean indicating whether the order is Business-to-Business (B2B) |\n",
    "| fulfilled-by       | Who fulfilled the shipping (e.g., Easy Ship)             |\n",
    "\n",
    "Source: https://www.kaggle.com/datasets/thedevastator/unlock-profits-with-e-commerce-sales-data?resource=download"
   ]
  },
  {
   "cell_type": "markdown",
   "id": "dbc1344a",
   "metadata": {},
   "source": [
    "## Descriptive Statistics"
   ]
  },
  {
   "cell_type": "code",
   "execution_count": 5,
   "id": "5578940b",
   "metadata": {},
   "outputs": [
    {
     "data": {
      "text/html": [
       "<div>\n",
       "<style scoped>\n",
       "    .dataframe tbody tr th:only-of-type {\n",
       "        vertical-align: middle;\n",
       "    }\n",
       "\n",
       "    .dataframe tbody tr th {\n",
       "        vertical-align: top;\n",
       "    }\n",
       "\n",
       "    .dataframe thead th {\n",
       "        text-align: right;\n",
       "    }\n",
       "</style>\n",
       "<table border=\"1\" class=\"dataframe\">\n",
       "  <thead>\n",
       "    <tr style=\"text-align: right;\">\n",
       "      <th></th>\n",
       "      <th>count</th>\n",
       "      <th>unique</th>\n",
       "      <th>top</th>\n",
       "      <th>freq</th>\n",
       "    </tr>\n",
       "  </thead>\n",
       "  <tbody>\n",
       "    <tr>\n",
       "      <th>Order ID</th>\n",
       "      <td>128975</td>\n",
       "      <td>120378</td>\n",
       "      <td>171-5057375-2831560</td>\n",
       "      <td>12</td>\n",
       "    </tr>\n",
       "    <tr>\n",
       "      <th>Date</th>\n",
       "      <td>128975</td>\n",
       "      <td>91</td>\n",
       "      <td>05-03-2022</td>\n",
       "      <td>2085</td>\n",
       "    </tr>\n",
       "    <tr>\n",
       "      <th>Status</th>\n",
       "      <td>128975</td>\n",
       "      <td>13</td>\n",
       "      <td>Shipped</td>\n",
       "      <td>77804</td>\n",
       "    </tr>\n",
       "    <tr>\n",
       "      <th>Fulfilment</th>\n",
       "      <td>128975</td>\n",
       "      <td>2</td>\n",
       "      <td>Amazon</td>\n",
       "      <td>89698</td>\n",
       "    </tr>\n",
       "    <tr>\n",
       "      <th>Sales Channel</th>\n",
       "      <td>128975</td>\n",
       "      <td>2</td>\n",
       "      <td>Amazon.in</td>\n",
       "      <td>128851</td>\n",
       "    </tr>\n",
       "    <tr>\n",
       "      <th>ship-service-level</th>\n",
       "      <td>128975</td>\n",
       "      <td>2</td>\n",
       "      <td>Expedited</td>\n",
       "      <td>88615</td>\n",
       "    </tr>\n",
       "    <tr>\n",
       "      <th>Style</th>\n",
       "      <td>128975</td>\n",
       "      <td>1377</td>\n",
       "      <td>JNE3797</td>\n",
       "      <td>4224</td>\n",
       "    </tr>\n",
       "    <tr>\n",
       "      <th>SKU</th>\n",
       "      <td>128975</td>\n",
       "      <td>7195</td>\n",
       "      <td>JNE3797-KR-L</td>\n",
       "      <td>773</td>\n",
       "    </tr>\n",
       "    <tr>\n",
       "      <th>Category</th>\n",
       "      <td>128975</td>\n",
       "      <td>9</td>\n",
       "      <td>Set</td>\n",
       "      <td>50284</td>\n",
       "    </tr>\n",
       "    <tr>\n",
       "      <th>Size</th>\n",
       "      <td>128975</td>\n",
       "      <td>11</td>\n",
       "      <td>M</td>\n",
       "      <td>22711</td>\n",
       "    </tr>\n",
       "    <tr>\n",
       "      <th>ASIN</th>\n",
       "      <td>128975</td>\n",
       "      <td>7190</td>\n",
       "      <td>B09SDXFFQ1</td>\n",
       "      <td>773</td>\n",
       "    </tr>\n",
       "    <tr>\n",
       "      <th>Courier Status</th>\n",
       "      <td>122103</td>\n",
       "      <td>3</td>\n",
       "      <td>Shipped</td>\n",
       "      <td>109487</td>\n",
       "    </tr>\n",
       "    <tr>\n",
       "      <th>currency</th>\n",
       "      <td>121180</td>\n",
       "      <td>1</td>\n",
       "      <td>INR</td>\n",
       "      <td>121180</td>\n",
       "    </tr>\n",
       "    <tr>\n",
       "      <th>ship-city</th>\n",
       "      <td>128942</td>\n",
       "      <td>8955</td>\n",
       "      <td>BENGALURU</td>\n",
       "      <td>11217</td>\n",
       "    </tr>\n",
       "    <tr>\n",
       "      <th>ship-state</th>\n",
       "      <td>128942</td>\n",
       "      <td>69</td>\n",
       "      <td>MAHARASHTRA</td>\n",
       "      <td>22260</td>\n",
       "    </tr>\n",
       "    <tr>\n",
       "      <th>ship-country</th>\n",
       "      <td>128942</td>\n",
       "      <td>1</td>\n",
       "      <td>IN</td>\n",
       "      <td>128942</td>\n",
       "    </tr>\n",
       "    <tr>\n",
       "      <th>promotion-ids</th>\n",
       "      <td>79822</td>\n",
       "      <td>5787</td>\n",
       "      <td>IN Core Free Shipping 2015/04/08 23-48-5-108</td>\n",
       "      <td>46100</td>\n",
       "    </tr>\n",
       "    <tr>\n",
       "      <th>fulfilled-by</th>\n",
       "      <td>39277</td>\n",
       "      <td>1</td>\n",
       "      <td>Easy Ship</td>\n",
       "      <td>39277</td>\n",
       "    </tr>\n",
       "  </tbody>\n",
       "</table>\n",
       "</div>"
      ],
      "text/plain": [
       "                     count  unique  \\\n",
       "Order ID            128975  120378   \n",
       "Date                128975      91   \n",
       "Status              128975      13   \n",
       "Fulfilment          128975       2   \n",
       "Sales Channel       128975       2   \n",
       "ship-service-level  128975       2   \n",
       "Style               128975    1377   \n",
       "SKU                 128975    7195   \n",
       "Category            128975       9   \n",
       "Size                128975      11   \n",
       "ASIN                128975    7190   \n",
       "Courier Status      122103       3   \n",
       "currency            121180       1   \n",
       "ship-city           128942    8955   \n",
       "ship-state          128942      69   \n",
       "ship-country        128942       1   \n",
       "promotion-ids        79822    5787   \n",
       "fulfilled-by         39277       1   \n",
       "\n",
       "                                                             top    freq  \n",
       "Order ID                                     171-5057375-2831560      12  \n",
       "Date                                                  05-03-2022    2085  \n",
       "Status                                                   Shipped   77804  \n",
       "Fulfilment                                                Amazon   89698  \n",
       "Sales Channel                                          Amazon.in  128851  \n",
       "ship-service-level                                     Expedited   88615  \n",
       "Style                                                    JNE3797    4224  \n",
       "SKU                                                 JNE3797-KR-L     773  \n",
       "Category                                                     Set   50284  \n",
       "Size                                                           M   22711  \n",
       "ASIN                                                  B09SDXFFQ1     773  \n",
       "Courier Status                                           Shipped  109487  \n",
       "currency                                                     INR  121180  \n",
       "ship-city                                              BENGALURU   11217  \n",
       "ship-state                                           MAHARASHTRA   22260  \n",
       "ship-country                                                  IN  128942  \n",
       "promotion-ids       IN Core Free Shipping 2015/04/08 23-48-5-108   46100  \n",
       "fulfilled-by                                           Easy Ship   39277  "
      ]
     },
     "execution_count": 5,
     "metadata": {},
     "output_type": "execute_result"
    }
   ],
   "source": [
    "df.describe(include='object').T"
   ]
  },
  {
   "cell_type": "code",
   "execution_count": 6,
   "id": "abd37aec",
   "metadata": {},
   "outputs": [
    {
     "data": {
      "text/html": [
       "<div>\n",
       "<style scoped>\n",
       "    .dataframe tbody tr th:only-of-type {\n",
       "        vertical-align: middle;\n",
       "    }\n",
       "\n",
       "    .dataframe tbody tr th {\n",
       "        vertical-align: top;\n",
       "    }\n",
       "\n",
       "    .dataframe thead th {\n",
       "        text-align: right;\n",
       "    }\n",
       "</style>\n",
       "<table border=\"1\" class=\"dataframe\">\n",
       "  <thead>\n",
       "    <tr style=\"text-align: right;\">\n",
       "      <th></th>\n",
       "      <th>count</th>\n",
       "      <th>mean</th>\n",
       "      <th>std</th>\n",
       "      <th>min</th>\n",
       "      <th>25%</th>\n",
       "      <th>50%</th>\n",
       "      <th>75%</th>\n",
       "      <th>max</th>\n",
       "    </tr>\n",
       "  </thead>\n",
       "  <tbody>\n",
       "    <tr>\n",
       "      <th>index</th>\n",
       "      <td>128975.0</td>\n",
       "      <td>64487.000000</td>\n",
       "      <td>37232.019822</td>\n",
       "      <td>0.0</td>\n",
       "      <td>32243.5</td>\n",
       "      <td>64487.0</td>\n",
       "      <td>96730.5</td>\n",
       "      <td>128974.0</td>\n",
       "    </tr>\n",
       "    <tr>\n",
       "      <th>Qty</th>\n",
       "      <td>128975.0</td>\n",
       "      <td>0.904431</td>\n",
       "      <td>0.313354</td>\n",
       "      <td>0.0</td>\n",
       "      <td>1.0</td>\n",
       "      <td>1.0</td>\n",
       "      <td>1.0</td>\n",
       "      <td>15.0</td>\n",
       "    </tr>\n",
       "    <tr>\n",
       "      <th>Amount</th>\n",
       "      <td>121180.0</td>\n",
       "      <td>648.561465</td>\n",
       "      <td>281.211687</td>\n",
       "      <td>0.0</td>\n",
       "      <td>449.0</td>\n",
       "      <td>605.0</td>\n",
       "      <td>788.0</td>\n",
       "      <td>5584.0</td>\n",
       "    </tr>\n",
       "    <tr>\n",
       "      <th>ship-postal-code</th>\n",
       "      <td>128942.0</td>\n",
       "      <td>463966.236509</td>\n",
       "      <td>191476.764941</td>\n",
       "      <td>110001.0</td>\n",
       "      <td>382421.0</td>\n",
       "      <td>500033.0</td>\n",
       "      <td>600024.0</td>\n",
       "      <td>989898.0</td>\n",
       "    </tr>\n",
       "  </tbody>\n",
       "</table>\n",
       "</div>"
      ],
      "text/plain": [
       "                     count           mean            std       min       25%  \\\n",
       "index             128975.0   64487.000000   37232.019822       0.0   32243.5   \n",
       "Qty               128975.0       0.904431       0.313354       0.0       1.0   \n",
       "Amount            121180.0     648.561465     281.211687       0.0     449.0   \n",
       "ship-postal-code  128942.0  463966.236509  191476.764941  110001.0  382421.0   \n",
       "\n",
       "                       50%       75%       max  \n",
       "index              64487.0   96730.5  128974.0  \n",
       "Qty                    1.0       1.0      15.0  \n",
       "Amount               605.0     788.0    5584.0  \n",
       "ship-postal-code  500033.0  600024.0  989898.0  "
      ]
     },
     "execution_count": 6,
     "metadata": {},
     "output_type": "execute_result"
    }
   ],
   "source": [
    "# descriptive statistics of dataset\n",
    "df.describe().T"
   ]
  },
  {
   "cell_type": "markdown",
   "id": "fddbbf1a",
   "metadata": {},
   "source": [
    "## Preprocessing date column"
   ]
  },
  {
   "cell_type": "code",
   "execution_count": 8,
   "id": "2afeaf95",
   "metadata": {},
   "outputs": [
    {
     "data": {
      "text/plain": [
       "count                  128975\n",
       "unique                     91\n",
       "top       2022-05-03 00:00:00\n",
       "freq                     2085\n",
       "first     2022-03-31 00:00:00\n",
       "last      2022-06-29 00:00:00\n",
       "Name: Date, dtype: object"
      ]
     },
     "execution_count": 8,
     "metadata": {},
     "output_type": "execute_result"
    }
   ],
   "source": [
    "# preprocessing date column for further analysis\n",
    "\n",
    "# converting data type\n",
    "df['Date'] = pd.to_datetime(df['Date'])\n",
    "# Now, the 'Date' column will be of datetime data type\n",
    "#exploring date column\n",
    "df['Date'].describe()"
   ]
  },
  {
   "cell_type": "code",
   "execution_count": 10,
   "id": "9f666e3e",
   "metadata": {},
   "outputs": [
    {
     "name": "stdout",
     "output_type": "stream",
     "text": [
      "Number of days including both the first and last days: 91\n"
     ]
    }
   ],
   "source": [
    "from datetime import datetime\n",
    "\n",
    "# Define the first and last dates as strings\n",
    "first_date_str = '2022-03-31 00:00:00'\n",
    "last_date_str = '2022-06-29 00:00:00'\n",
    "\n",
    "# Convert the date strings to datetime objects\n",
    "first_date = datetime.strptime(first_date_str, '%Y-%m-%d %H:%M:%S')\n",
    "last_date = datetime.strptime(last_date_str, '%Y-%m-%d %H:%M:%S')\n",
    "\n",
    "# Calculate the difference in days and add 1 to include both first and last days\n",
    "time_difference = last_date - first_date\n",
    "days_difference = time_difference.days + 1\n",
    "\n",
    "print(\"Number of days including both the first and last days:\", days_difference)\n"
   ]
  },
  {
   "cell_type": "markdown",
   "id": "492fbc89",
   "metadata": {},
   "source": [
    "# Revenue analysis\n",
    "\n",
    "To understand revenue generated, we will analyse Amount attribute. \n",
    "- Total revenue generated\n",
    "- Revenue generated by month"
   ]
  },
  {
   "cell_type": "code",
   "execution_count": 5,
   "id": "2d599a74",
   "metadata": {},
   "outputs": [
    {
     "data": {
      "text/plain": [
       "count    121180.000000\n",
       "mean        648.561465\n",
       "std         281.211687\n",
       "min           0.000000\n",
       "25%         449.000000\n",
       "50%         605.000000\n",
       "75%         788.000000\n",
       "max        5584.000000\n",
       "Name: Amount, dtype: float64"
      ]
     },
     "execution_count": 5,
     "metadata": {},
     "output_type": "execute_result"
    }
   ],
   "source": [
    "# descriptive statistics of amount column\n",
    "df['Amount'].describe()"
   ]
  },
  {
   "cell_type": "markdown",
   "id": "16f11c96",
   "metadata": {},
   "source": [
    "### <span style='color:Blue'> *Observatios:* </span>\n",
    "\n",
    "1. **Average Amount**: The average transaction amount is approximately 648.56, indicating the typical or mean value of transactions in dataset.\n",
    "\n",
    "2. **Minimum Amount**: The minimum transaction amount is 0.0, These represent cases of canceled transactions.\n",
    "\n",
    "3. **Maximum Amount**: The maximum transaction amount is 5,584.0, indicating that some transactions involve a relatively high monetary value.\n",
    "\n",
    "4. **Amount Distribution**: The dataset provides a distribution of transaction amounts, with a wide range of values. The 25th percentile (Q1) is 449.0, the median (Q2 or 50th percentile) is 605.0, and the 75th percentile (Q3) is 788.0. These quartiles help understand the spread of transaction amounts.\n",
    "\n",
    "5. **Variability**: The standard deviation (std) of approximately 281.21 indicates that there is some variability in transaction amounts. Some transactions are significantly higher or lower than the mean.\n",
    "\n",
    "\n",
    "- Many transactions have amounts that fall within the 25th to 75th percentile range (449.0 to 788.0), indicating typical transaction values.\n",
    "- The top three transaction amounts are 399.0, 771.0, and 735.0, which are the most common transaction values in the dataset.\n"
   ]
  },
  {
   "cell_type": "markdown",
   "id": "93fb5744",
   "metadata": {},
   "source": [
    "## Total revenue generated"
   ]
  },
  {
   "cell_type": "code",
   "execution_count": 7,
   "id": "594c99e3",
   "metadata": {},
   "outputs": [
    {
     "name": "stdout",
     "output_type": "stream",
     "text": [
      "Total Revenue Generated: ₹78592678.30\n"
     ]
    }
   ],
   "source": [
    "total_revenue = df['Amount'].sum()\n",
    "print(\"Total Revenue Generated: ₹{:.2f}\".format(total_revenue))"
   ]
  },
  {
   "cell_type": "markdown",
   "id": "18f3e189",
   "metadata": {},
   "source": [
    "### <span style='color:Blue'> *Observatios:* </span>\n",
    "Total revenue generated from 2022-03-31 to  2022-06-29 (91 dyas) is **Seven Crore Eighty Five Lakh Ninety Two Thousand Six Hundred Seventy Eight rupees.**"
   ]
  },
  {
   "cell_type": "markdown",
   "id": "24e4b6c7",
   "metadata": {},
   "source": [
    "## Month Wise Revenue analysis"
   ]
  },
  {
   "cell_type": "code",
   "execution_count": 15,
   "id": "ed5774d4",
   "metadata": {},
   "outputs": [
    {
     "name": "stdout",
     "output_type": "stream",
     "text": [
      "Amount generated in 4th month: 28838708.32\n",
      "Amount generated in 5th month: 26226476.75\n",
      "Amount generated in 6th month: 23425809.38\n",
      "----------------------------------------------------------------------\n",
      "Percentage of amount generated in 4th month: 36.74 %\n",
      "Percentage of amount generated in 5th month: 33.41 %\n",
      "Percentage of amount generated in 6th month: 29.85 %\n"
     ]
    }
   ],
   "source": [
    "# Filter data for each month and calculate the sum of 'Amount'\n",
    "fourth_month_amount = df[(df['Date'].dt.month == 4)]['Amount'].sum()\n",
    "fifth_month_amount = df[(df['Date'].dt.month == 5)]['Amount'].sum()\n",
    "sixth_month_amount = df[(df['Date'].dt.month == 6)]['Amount'].sum()\n",
    "\n",
    "print(\"Amount generated in 4th month:\", fourth_month_amount)\n",
    "print(\"Amount generated in 5th month:\", fifth_month_amount)\n",
    "print(\"Amount generated in 6th month:\", sixth_month_amount)\n",
    "\n",
    "\n",
    "# Calculate the total amount for all three months\n",
    "total_amount_all_months = df[(df['Date'].dt.month >= 4) & (df['Date'].dt.month <= 6)]['Amount'].sum()\n",
    "\n",
    "# Calculate the percentages\n",
    "percentage_fourth_month = round((fourth_month_amount / total_amount_all_months) * 100, 2)\n",
    "percentage_fifth_month = round((fifth_month_amount / total_amount_all_months) * 100, 2)\n",
    "percentage_sixth_month = round((sixth_month_amount / total_amount_all_months) * 100,2)\n",
    "print('-'*70)\n",
    "print(\"Percentage of amount generated in 4th month:\", percentage_fourth_month, \"%\")\n",
    "print(\"Percentage of amount generated in 5th month:\", percentage_fifth_month, \"%\")\n",
    "print(\"Percentage of amount generated in 6th month:\", percentage_sixth_month, \"%\")\n"
   ]
  },
  {
   "cell_type": "markdown",
   "id": "9226ec67",
   "metadata": {},
   "source": [
    "### <span style='color:Blue'> *Observatios:* </span>\n",
    "\n",
    "Amount generated in the 4th month is **Two Crore Eighty Eight Lakh Thirty Eight Thousand Seven Hundred Eight rupees.**\n",
    "\n",
    "Amount generated in the 5th month is **Two Crore Sixty Two Lakh Twenty Six Thousand Four Hundred Seventy Six rupees**\n",
    "\n",
    "Amount generated in the 6th month is **Two Crore Thirty Four Lakh Twenty Five Thousand Eight Hundred Nine rupees**\n",
    "\n",
    "There is a decrease in revenue generation from month to month."
   ]
  },
  {
   "cell_type": "markdown",
   "id": "896df269",
   "metadata": {},
   "source": [
    "# Week Wise Revenue analysis - April month"
   ]
  },
  {
   "cell_type": "code",
   "execution_count": 26,
   "id": "517d75f5",
   "metadata": {},
   "outputs": [
    {
     "data": {
      "text/html": [
       "<div>\n",
       "<style scoped>\n",
       "    .dataframe tbody tr th:only-of-type {\n",
       "        vertical-align: middle;\n",
       "    }\n",
       "\n",
       "    .dataframe tbody tr th {\n",
       "        vertical-align: top;\n",
       "    }\n",
       "\n",
       "    .dataframe thead th {\n",
       "        text-align: right;\n",
       "    }\n",
       "</style>\n",
       "<table border=\"1\" class=\"dataframe\">\n",
       "  <thead>\n",
       "    <tr style=\"text-align: right;\">\n",
       "      <th></th>\n",
       "      <th>Week</th>\n",
       "      <th>week_start_date</th>\n",
       "      <th>week_end_date</th>\n",
       "      <th>no_of_days_in_week</th>\n",
       "      <th>Amount</th>\n",
       "    </tr>\n",
       "    <tr>\n",
       "      <th>Date</th>\n",
       "      <th></th>\n",
       "      <th></th>\n",
       "      <th></th>\n",
       "      <th></th>\n",
       "      <th></th>\n",
       "    </tr>\n",
       "  </thead>\n",
       "  <tbody>\n",
       "    <tr>\n",
       "      <th>13</th>\n",
       "      <td>13</td>\n",
       "      <td>2022-04-01</td>\n",
       "      <td>2022-04-03</td>\n",
       "      <td>3</td>\n",
       "      <td>2790343.51</td>\n",
       "    </tr>\n",
       "    <tr>\n",
       "      <th>14</th>\n",
       "      <td>14</td>\n",
       "      <td>2022-04-04</td>\n",
       "      <td>2022-04-10</td>\n",
       "      <td>7</td>\n",
       "      <td>6695415.95</td>\n",
       "    </tr>\n",
       "    <tr>\n",
       "      <th>15</th>\n",
       "      <td>15</td>\n",
       "      <td>2022-04-11</td>\n",
       "      <td>2022-04-17</td>\n",
       "      <td>7</td>\n",
       "      <td>6902700.42</td>\n",
       "    </tr>\n",
       "    <tr>\n",
       "      <th>16</th>\n",
       "      <td>16</td>\n",
       "      <td>2022-04-18</td>\n",
       "      <td>2022-04-24</td>\n",
       "      <td>7</td>\n",
       "      <td>7063406.00</td>\n",
       "    </tr>\n",
       "    <tr>\n",
       "      <th>17</th>\n",
       "      <td>17</td>\n",
       "      <td>2022-04-25</td>\n",
       "      <td>2022-04-30</td>\n",
       "      <td>6</td>\n",
       "      <td>5386842.44</td>\n",
       "    </tr>\n",
       "  </tbody>\n",
       "</table>\n",
       "</div>"
      ],
      "text/plain": [
       "      Week week_start_date week_end_date  no_of_days_in_week      Amount\n",
       "Date                                                                    \n",
       "13      13      2022-04-01    2022-04-03                   3  2790343.51\n",
       "14      14      2022-04-04    2022-04-10                   7  6695415.95\n",
       "15      15      2022-04-11    2022-04-17                   7  6902700.42\n",
       "16      16      2022-04-18    2022-04-24                   7  7063406.00\n",
       "17      17      2022-04-25    2022-04-30                   6  5386842.44"
      ]
     },
     "execution_count": 26,
     "metadata": {},
     "output_type": "execute_result"
    }
   ],
   "source": [
    "# Filter data for the 4th month (April)\n",
    "april_data = df[df['Date'].dt.month == 4]\n",
    "\n",
    "# Group data by week and calculate the sum of 'Amount'\n",
    "weekly_amounts_april = april_data.groupby(df['Date'].dt.week)['Amount'].sum()\n",
    "\n",
    "# Get the start and end dates for each week\n",
    "week_start_date = april_data.groupby(df['Date'].dt.week)['Date'].min()\n",
    "week_end_date = april_data.groupby(df['Date'].dt.week)['Date'].max()\n",
    "\n",
    "# Calculate the number of days in each week\n",
    "no_of_days_in_week = (week_end_date - week_start_date).dt.days + 1\n",
    "\n",
    "# Create a DataFrame with the calculated values\n",
    "result_df = pd.DataFrame({\n",
    "    'Week': weekly_amounts_april.index,\n",
    "    'week_start_date': week_start_date,\n",
    "    'week_end_date': week_end_date,\n",
    "    'no_of_days_in_week': no_of_days_in_week,\n",
    "    'Amount': weekly_amounts_april.values\n",
    "})\n",
    "\n",
    "# Print the result\n",
    "result_df"
   ]
  },
  {
   "cell_type": "markdown",
   "id": "da0f0254",
   "metadata": {},
   "source": [
    "# Week Wise Revenue analysis - May month"
   ]
  },
  {
   "cell_type": "code",
   "execution_count": 27,
   "id": "b649a198",
   "metadata": {},
   "outputs": [
    {
     "data": {
      "text/html": [
       "<div>\n",
       "<style scoped>\n",
       "    .dataframe tbody tr th:only-of-type {\n",
       "        vertical-align: middle;\n",
       "    }\n",
       "\n",
       "    .dataframe tbody tr th {\n",
       "        vertical-align: top;\n",
       "    }\n",
       "\n",
       "    .dataframe thead th {\n",
       "        text-align: right;\n",
       "    }\n",
       "</style>\n",
       "<table border=\"1\" class=\"dataframe\">\n",
       "  <thead>\n",
       "    <tr style=\"text-align: right;\">\n",
       "      <th></th>\n",
       "      <th>Week</th>\n",
       "      <th>week_start_date</th>\n",
       "      <th>week_end_date</th>\n",
       "      <th>no_of_days_in_week</th>\n",
       "      <th>Amount</th>\n",
       "    </tr>\n",
       "    <tr>\n",
       "      <th>Date</th>\n",
       "      <th></th>\n",
       "      <th></th>\n",
       "      <th></th>\n",
       "      <th></th>\n",
       "      <th></th>\n",
       "    </tr>\n",
       "  </thead>\n",
       "  <tbody>\n",
       "    <tr>\n",
       "      <th>17</th>\n",
       "      <td>17</td>\n",
       "      <td>2022-05-01</td>\n",
       "      <td>2022-05-01</td>\n",
       "      <td>1</td>\n",
       "      <td>1079957.52</td>\n",
       "    </tr>\n",
       "    <tr>\n",
       "      <th>18</th>\n",
       "      <td>18</td>\n",
       "      <td>2022-05-02</td>\n",
       "      <td>2022-05-08</td>\n",
       "      <td>7</td>\n",
       "      <td>7190464.94</td>\n",
       "    </tr>\n",
       "    <tr>\n",
       "      <th>19</th>\n",
       "      <td>19</td>\n",
       "      <td>2022-05-09</td>\n",
       "      <td>2022-05-15</td>\n",
       "      <td>7</td>\n",
       "      <td>5367831.55</td>\n",
       "    </tr>\n",
       "    <tr>\n",
       "      <th>20</th>\n",
       "      <td>20</td>\n",
       "      <td>2022-05-16</td>\n",
       "      <td>2022-05-22</td>\n",
       "      <td>7</td>\n",
       "      <td>5283885.33</td>\n",
       "    </tr>\n",
       "    <tr>\n",
       "      <th>21</th>\n",
       "      <td>21</td>\n",
       "      <td>2022-05-23</td>\n",
       "      <td>2022-05-29</td>\n",
       "      <td>7</td>\n",
       "      <td>5583804.55</td>\n",
       "    </tr>\n",
       "    <tr>\n",
       "      <th>22</th>\n",
       "      <td>22</td>\n",
       "      <td>2022-05-30</td>\n",
       "      <td>2022-05-31</td>\n",
       "      <td>2</td>\n",
       "      <td>1720532.86</td>\n",
       "    </tr>\n",
       "  </tbody>\n",
       "</table>\n",
       "</div>"
      ],
      "text/plain": [
       "      Week week_start_date week_end_date  no_of_days_in_week      Amount\n",
       "Date                                                                    \n",
       "17      17      2022-05-01    2022-05-01                   1  1079957.52\n",
       "18      18      2022-05-02    2022-05-08                   7  7190464.94\n",
       "19      19      2022-05-09    2022-05-15                   7  5367831.55\n",
       "20      20      2022-05-16    2022-05-22                   7  5283885.33\n",
       "21      21      2022-05-23    2022-05-29                   7  5583804.55\n",
       "22      22      2022-05-30    2022-05-31                   2  1720532.86"
      ]
     },
     "execution_count": 27,
     "metadata": {},
     "output_type": "execute_result"
    }
   ],
   "source": [
    "# Filter data for the 5th month (May)\n",
    "may_data = df[df['Date'].dt.month == 5]\n",
    "\n",
    "# Group data by week and calculate the sum of 'Amount'\n",
    "weekly_amounts_may = may_data.groupby(df['Date'].dt.week)['Amount'].sum()\n",
    "\n",
    "# Get the start and end dates for each week\n",
    "week_start_date = may_data.groupby(df['Date'].dt.week)['Date'].min()\n",
    "week_end_date = may_data.groupby(df['Date'].dt.week)['Date'].max()\n",
    "\n",
    "# Calculate the number of days in each week\n",
    "no_of_days_in_week = (week_end_date - week_start_date).dt.days + 1\n",
    "\n",
    "# Create a DataFrame with the calculated values\n",
    "result_df = pd.DataFrame({\n",
    "    'Week': weekly_amounts_may.index,\n",
    "    'week_start_date': week_start_date,\n",
    "    'week_end_date': week_end_date,\n",
    "    'no_of_days_in_week': no_of_days_in_week,\n",
    "    'Amount': weekly_amounts_may.values\n",
    "})\n",
    "\n",
    "# Print the result\n",
    "result_df"
   ]
  },
  {
   "cell_type": "markdown",
   "id": "36e1c3fb",
   "metadata": {},
   "source": [
    "# Week Wise Revenue analysis - June month"
   ]
  },
  {
   "cell_type": "code",
   "execution_count": 29,
   "id": "1ed3de21",
   "metadata": {},
   "outputs": [
    {
     "data": {
      "text/html": [
       "<div>\n",
       "<style scoped>\n",
       "    .dataframe tbody tr th:only-of-type {\n",
       "        vertical-align: middle;\n",
       "    }\n",
       "\n",
       "    .dataframe tbody tr th {\n",
       "        vertical-align: top;\n",
       "    }\n",
       "\n",
       "    .dataframe thead th {\n",
       "        text-align: right;\n",
       "    }\n",
       "</style>\n",
       "<table border=\"1\" class=\"dataframe\">\n",
       "  <thead>\n",
       "    <tr style=\"text-align: right;\">\n",
       "      <th></th>\n",
       "      <th>Week</th>\n",
       "      <th>week_start_date</th>\n",
       "      <th>week_end_date</th>\n",
       "      <th>no_of_days_in_week</th>\n",
       "      <th>Amount</th>\n",
       "    </tr>\n",
       "    <tr>\n",
       "      <th>Date</th>\n",
       "      <th></th>\n",
       "      <th></th>\n",
       "      <th></th>\n",
       "      <th></th>\n",
       "      <th></th>\n",
       "    </tr>\n",
       "  </thead>\n",
       "  <tbody>\n",
       "    <tr>\n",
       "      <th>22</th>\n",
       "      <td>22</td>\n",
       "      <td>2022-06-01</td>\n",
       "      <td>2022-06-05</td>\n",
       "      <td>5</td>\n",
       "      <td>4451862.35</td>\n",
       "    </tr>\n",
       "    <tr>\n",
       "      <th>23</th>\n",
       "      <td>23</td>\n",
       "      <td>2022-06-06</td>\n",
       "      <td>2022-06-12</td>\n",
       "      <td>7</td>\n",
       "      <td>6463328.67</td>\n",
       "    </tr>\n",
       "    <tr>\n",
       "      <th>24</th>\n",
       "      <td>24</td>\n",
       "      <td>2022-06-13</td>\n",
       "      <td>2022-06-19</td>\n",
       "      <td>7</td>\n",
       "      <td>5559803.37</td>\n",
       "    </tr>\n",
       "    <tr>\n",
       "      <th>25</th>\n",
       "      <td>25</td>\n",
       "      <td>2022-06-20</td>\n",
       "      <td>2022-06-26</td>\n",
       "      <td>7</td>\n",
       "      <td>5053074.03</td>\n",
       "    </tr>\n",
       "    <tr>\n",
       "      <th>26</th>\n",
       "      <td>26</td>\n",
       "      <td>2022-06-27</td>\n",
       "      <td>2022-06-29</td>\n",
       "      <td>3</td>\n",
       "      <td>1897740.96</td>\n",
       "    </tr>\n",
       "  </tbody>\n",
       "</table>\n",
       "</div>"
      ],
      "text/plain": [
       "      Week week_start_date week_end_date  no_of_days_in_week      Amount\n",
       "Date                                                                    \n",
       "22      22      2022-06-01    2022-06-05                   5  4451862.35\n",
       "23      23      2022-06-06    2022-06-12                   7  6463328.67\n",
       "24      24      2022-06-13    2022-06-19                   7  5559803.37\n",
       "25      25      2022-06-20    2022-06-26                   7  5053074.03\n",
       "26      26      2022-06-27    2022-06-29                   3  1897740.96"
      ]
     },
     "execution_count": 29,
     "metadata": {},
     "output_type": "execute_result"
    }
   ],
   "source": [
    "# Filter data for the 6th month (june)\n",
    "june_data = df[df['Date'].dt.month == 6]\n",
    "\n",
    "# Group data by week and calculate the sum of 'Amount'\n",
    "weekly_amounts_june = june_data.groupby(df['Date'].dt.week)['Amount'].sum()\n",
    "\n",
    "# Get the start and end dates for each week\n",
    "week_start_date = june_data.groupby(df['Date'].dt.week)['Date'].min()\n",
    "week_end_date = june_data.groupby(df['Date'].dt.week)['Date'].max()\n",
    "\n",
    "# Calculate the number of days in each week\n",
    "no_of_days_in_week = (week_end_date - week_start_date).dt.days + 1\n",
    "\n",
    "# Create a DataFrame with the calculated values\n",
    "result_df = pd.DataFrame({\n",
    "    'Week': weekly_amounts_june.index,\n",
    "    'week_start_date': week_start_date,\n",
    "    'week_end_date': week_end_date,\n",
    "    'no_of_days_in_week': no_of_days_in_week,\n",
    "    'Amount': weekly_amounts_june.values\n",
    "})\n",
    "\n",
    "# Print the result\n",
    "result_df"
   ]
  },
  {
   "cell_type": "markdown",
   "id": "21d652d6",
   "metadata": {},
   "source": [
    "## Week wise revenue analysis"
   ]
  },
  {
   "cell_type": "code",
   "execution_count": 30,
   "id": "554b344d",
   "metadata": {},
   "outputs": [
    {
     "name": "stdout",
     "output_type": "stream",
     "text": [
      "0      101683.85\n",
      "1     2790343.51\n",
      "2     6695415.95\n",
      "3     6902700.42\n",
      "4     7063406.00\n",
      "5     5386842.44\n",
      "6     1079957.52\n",
      "7     7190464.94\n",
      "8     5367831.55\n",
      "9     5283885.33\n",
      "10    5583804.55\n",
      "11    1720532.86\n",
      "12    4451862.35\n",
      "13    6463328.67\n",
      "14    5559803.37\n",
      "15    5053074.03\n",
      "16    1897740.96\n",
      "Name: Amount, dtype: float64\n"
     ]
    }
   ],
   "source": [
    "\n",
    "# Convert 'Date' column to datetime if not already done\n",
    "df['Date'] = pd.to_datetime(df['Date'])\n",
    "\n",
    "# Group data by year, month, and week and calculate the sum of 'Amount'\n",
    "weekly_amounts = df.groupby([df['Date'].dt.year, df['Date'].dt.month, df['Date'].dt.week])['Amount'].sum()\n",
    "\n",
    "# Reset the index with drop=True to remove the existing 'Date' column from the index\n",
    "weekly_amounts = weekly_amounts.reset_index(drop=True)\n",
    "\n",
    "# Rename columns for clarity\n",
    "weekly_amounts.columns = ['Year', 'Month', 'Week', 'Amount']\n",
    "\n",
    "# Print the result\n",
    "print(weekly_amounts)\n"
   ]
  },
  {
   "cell_type": "markdown",
   "id": "24958606",
   "metadata": {},
   "source": [
    "### <span style='color:Blue'> *Observatios:* </span>\n",
    "\n",
    "**For April:**\n",
    "- Sales started on the first day of April (Week 13) and gradually increased over the first two weeks.\n",
    "- The highest sales week in April was Week 14, with ₹6,695,415.95 in sales.\n",
    "- Sales slightly decreased in the following weeks, with Week 17 having the lowest sales among the weeks.\n",
    "\n",
    "**For May:**\n",
    "- May started with a single-day week (Week 17) but had significant sales.\n",
    "- Week 18 saw a substantial increase in sales, with ₹7,190,464.94.\n",
    "- Sales remained relatively consistent in the subsequent weeks, with Week 21 having the highest sales.\n",
    "- In Week 22, sales decreased as it covered the last two days of May.\n",
    "\n",
    "**For June:**\n",
    "- June started strong with Week 22, which had ₹4,451,862.35 in sales.\n",
    "- Week 23 had the highest sales in June, with ₹6,463,328.67.\n",
    "- Sales gradually decreased in the following weeks, with Week 26 being the lowest.\n",
    "\n",
    "Overall, there are noticeable sales trends within each month, with some weeks performing significantly better than others. "
   ]
  },
  {
   "cell_type": "markdown",
   "id": "b49ee9b3",
   "metadata": {},
   "source": [
    "# Day wise revenue analysis"
   ]
  },
  {
   "cell_type": "code",
   "execution_count": 23,
   "id": "8755c0b1",
   "metadata": {},
   "outputs": [
    {
     "name": "stdout",
     "output_type": "stream",
     "text": [
      "  Day of the Week       Amount  Percentage (%)\n",
      "0          Monday  11318441.14       14.401394\n",
      "1         Tuesday  11491626.07       14.621751\n",
      "2       Wednesday  11249823.35       14.314086\n",
      "3        Thursday  10358594.27       13.180101\n",
      "4          Friday  10805394.60       13.748602\n",
      "5        Saturday  11339357.57       14.428008\n",
      "6          Sunday  12029441.30       15.306058\n"
     ]
    }
   ],
   "source": [
    "\n",
    "# Group data by the day of the week (Monday = 0, Sunday = 6) and calculate the sum of 'Amount'\n",
    "day_of_week_amounts = df.groupby(df['Date'].dt.dayofweek)['Amount'].sum()\n",
    "\n",
    "# Calculate the total amount\n",
    "total_amount = day_of_week_amounts.sum()\n",
    "\n",
    "# Define a list of day names for labeling\n",
    "day_names = ['Monday', 'Tuesday', 'Wednesday', 'Thursday', 'Friday', 'Saturday', 'Sunday']\n",
    "\n",
    "# Rename the index to day names for clarity\n",
    "day_of_week_amounts.index = [day_names[idx] for idx in day_of_week_amounts.index]\n",
    "\n",
    "# Calculate the percentages\n",
    "percentages = (day_of_week_amounts / total_amount) * 100\n",
    "\n",
    "# Create a DataFrame to display both amounts and percentages\n",
    "result_df = pd.DataFrame({'Day of the Week': day_of_week_amounts.index, 'Amount': day_of_week_amounts.values, 'Percentage (%)': percentages.values})\n",
    "\n",
    "# Print the result\n",
    "print(result_df)"
   ]
  },
  {
   "cell_type": "markdown",
   "id": "1317d6b0",
   "metadata": {},
   "source": [
    "### <span style='color:Blue'> *Observatios:* </span>\n",
    "\n",
    "1. **Sales Distribution by Day of the Week:**\n",
    "   - Sunday had the highest total sales, contributing to 15.31% of the total revenue.\n",
    "   - Tuesday and Saturday also had significant sales, accounting for 14.62% and 14.43% of the total revenue, respectively.\n",
    "   - Thursday had the lowest sales among the weekdays, with 13.18% of the total revenue.\n",
    "\n",
    "2. **Weekend Impact:**\n",
    "   - Weekends (Saturday and Sunday) collectively generated around 29.75% of the total revenue, indicating that customers tend to shop more on weekends.\n",
    "   - Monday, Wednesday, and Friday had relatively balanced sales percentages.\n",
    "\n",
    "3. **Midweek Sales:**\n",
    "   - Wednesday had the third-highest sales among the weekdays, contributing 14.31% of the total revenue.\n",
    "   - This suggests that customers are actively making purchases even in the middle of the week.\n",
    "\n",
    "4. **Consistency Across Weekdays:**\n",
    "   - Tuesday and Friday had similar sales percentages, both around 14.62% and 13.75%, respectively.\n",
    "   - This suggests a consistent shopping pattern among customers on these days.\n",
    "\n",
    "Overall, the analysis of sales by day of the week provides valuable insights into customer behavior and can help in optimizing marketing strategies and promotions to target specific days when sales tend to be higher. Additionally, it can aid in workforce management, ensuring adequate staffing during peak sales days."
   ]
  },
  {
   "cell_type": "markdown",
   "id": "79ff2636",
   "metadata": {},
   "source": [
    "## **Overall Insights from Revenue Analysis:**\n",
    "\n",
    "1. **Total Revenue Generated:** The total revenue generated during the analyzed period is substantial, amounting to Seven Crore Eighty-Five Lakh Ninety-Two Thousand Six Hundred Seventy-Eight rupees. This indicates a significant volume of sales activity within the dataset.\n",
    "\n",
    "2. **Average Transaction Amount:** The average transaction amount is approximately 648.56 rupees, suggesting that this is the typical order value for customers.\n",
    "\n",
    "3. **Minimum and Maximum Transaction Amounts:** The dataset includes transactions with a minimum amount of 0.0 rupees, likely representing canceled or voided transactions. On the other hand, the maximum transaction amount reaches 5,584.0 rupees, indicating that some transactions involve a substantial monetary value.\n",
    "\n",
    "4. **Amount Distribution:** The distribution of transaction amounts shows variability. The interquartile range (IQR) spans from 449.0 to 788.0 rupees, capturing the middle 50% of transactions. This indicates typical transaction values, with some transactions falling outside this range.\n",
    "\n",
    "5. **Variability:** The standard deviation of approximately 281.21 rupees signifies variability in transaction amounts. Some transactions deviate significantly from the mean, indicating a range of customer spending behaviors.\n",
    "\n",
    "6. **Month-Wise Revenue Analysis:** There is a decreasing trend in revenue generation from March to June. This could be due to various factors, including seasonal trends, market dynamics, or changes in consumer behavior.\n",
    "\n",
    "7. **Week-Wise Revenue Analysis:** Within each month, week-wise sales patterns vary. Some weeks experience higher sales, while others see a decline. Identifying peak sales weeks can help optimize inventory and marketing strategies.\n",
    "\n",
    "8. **Day-Wise Revenue Analysis:** Sales distribution by day of the week reveals insights into customer behavior. Sunday, Tuesday, and Saturday consistently contribute to the highest sales. The weekends collectively generate a significant portion of revenue, indicating increased shopping activity. Midweek sales on Wednesday also perform well, suggesting active shopping on this day.\n",
    "\n",
    "**Key Takeaways:**\n",
    "\n",
    "- The dataset represents a substantial volume of sales, indicating a thriving business.\n",
    "- Customer spending varies, with some transactions involving high values.\n",
    "- Revenue exhibits a monthly and weekly cyclical pattern, emphasizing the importance of understanding seasonality.\n",
    "- Weekend sales are significant, suggesting that customers prefer shopping on Saturdays and Sundays.\n",
    "- Midweek shopping on Wednesday indicates consistent customer engagement.\n",
    "- These insights can guide marketing, inventory management, and promotional strategies to optimize sales and enhance customer engagement. Further analysis can explore the factors influencing the observed trends in revenue.\n",
    "\n",
    "\n",
    "**Business Impact:**\n",
    "Understanding the total revenue generated and its distribution across months can help in budgeting, resource allocation, and forecasting. It can also assist in setting realistic revenue targets and optimizing marketing strategies to maintain or increase revenue."
   ]
  },
  {
   "cell_type": "markdown",
   "id": "ed819a1b",
   "metadata": {},
   "source": [
    "# Product/Category analysis"
   ]
  },
  {
   "cell_type": "markdown",
   "id": "1cda83c6",
   "metadata": {},
   "source": [
    "## Top 10 Products by Revenue generation"
   ]
  },
  {
   "cell_type": "code",
   "execution_count": 44,
   "id": "17dad0c2",
   "metadata": {},
   "outputs": [
    {
     "name": "stdout",
     "output_type": "stream",
     "text": [
      "                    Amount  Percentage (%)\n",
      "Category                                  \n",
      "Set            39204124.03       49.882667\n",
      "kurta          21299546.70       27.101184\n",
      "Western Dress  11216072.69       14.271142\n",
      "Top             5347792.30        6.804441\n",
      "Ethnic Dress     791217.66        1.006732\n",
      "Blouse           458408.18        0.583271\n",
      "Bottom           150667.98        0.191707\n",
      "Saree            123933.76        0.157691\n",
      "Dupatta             915.00        0.001164\n"
     ]
    }
   ],
   "source": [
    "# Group data by 'Category' and calculate the sum of 'Amount'\n",
    "category_amounts = df.groupby('Category')['Amount'].sum()\n",
    "\n",
    "# Calculate the total revenue\n",
    "total_revenue = category_amounts.sum()\n",
    "\n",
    "# Calculate the percentages for each category\n",
    "category_percentages = (category_amounts / total_revenue) * 100\n",
    "\n",
    "# Combine the category amounts and percentages into a DataFrame\n",
    "category_summary = pd.DataFrame({'Amount': category_amounts, 'Percentage (%)': category_percentages})\n",
    "\n",
    "# Sort the DataFrame by 'Amount' in descending order to find the top 10 categories\n",
    "top_10_categories = category_summary.sort_values(by='Amount', ascending=False).head(10)\n",
    "\n",
    "# Print the top 10 categories with their amounts and percentages\n",
    "print(top_10_categories)"
   ]
  },
  {
   "cell_type": "markdown",
   "id": "3cff3e09",
   "metadata": {},
   "source": [
    "### <span style='color:Blue'> *Observatios:* </span>\n",
    "\n",
    "- Top categories by amount wise are Set, Kurta and Western dress."
   ]
  },
  {
   "cell_type": "markdown",
   "id": "f15c5ece",
   "metadata": {},
   "source": [
    "## Most costliest Order"
   ]
  },
  {
   "cell_type": "code",
   "execution_count": 52,
   "id": "61131fb4",
   "metadata": {},
   "outputs": [
    {
     "data": {
      "text/html": [
       "<div>\n",
       "<style scoped>\n",
       "    .dataframe tbody tr th:only-of-type {\n",
       "        vertical-align: middle;\n",
       "    }\n",
       "\n",
       "    .dataframe tbody tr th {\n",
       "        vertical-align: top;\n",
       "    }\n",
       "\n",
       "    .dataframe thead th {\n",
       "        text-align: right;\n",
       "    }\n",
       "</style>\n",
       "<table border=\"1\" class=\"dataframe\">\n",
       "  <thead>\n",
       "    <tr style=\"text-align: right;\">\n",
       "      <th></th>\n",
       "      <th>index</th>\n",
       "      <th>Order ID</th>\n",
       "      <th>Date</th>\n",
       "      <th>Status</th>\n",
       "      <th>Fulfilment</th>\n",
       "      <th>Sales Channel</th>\n",
       "      <th>ship-service-level</th>\n",
       "      <th>Style</th>\n",
       "      <th>SKU</th>\n",
       "      <th>Category</th>\n",
       "      <th>...</th>\n",
       "      <th>Qty</th>\n",
       "      <th>currency</th>\n",
       "      <th>Amount</th>\n",
       "      <th>ship-city</th>\n",
       "      <th>ship-state</th>\n",
       "      <th>ship-postal-code</th>\n",
       "      <th>ship-country</th>\n",
       "      <th>promotion-ids</th>\n",
       "      <th>B2B</th>\n",
       "      <th>fulfilled-by</th>\n",
       "    </tr>\n",
       "  </thead>\n",
       "  <tbody>\n",
       "    <tr>\n",
       "      <th>42039</th>\n",
       "      <td>42039</td>\n",
       "      <td>402-5239558-4281957</td>\n",
       "      <td>2022-04-05</td>\n",
       "      <td>Shipped</td>\n",
       "      <td>Amazon</td>\n",
       "      <td>Amazon.in</td>\n",
       "      <td>Expedited</td>\n",
       "      <td>SET268</td>\n",
       "      <td>SET268-KR-NP-XS</td>\n",
       "      <td>Set</td>\n",
       "      <td>...</td>\n",
       "      <td>8</td>\n",
       "      <td>INR</td>\n",
       "      <td>5584.0</td>\n",
       "      <td>GUNTUR</td>\n",
       "      <td>ANDHRA PRADESH</td>\n",
       "      <td>522007.0</td>\n",
       "      <td>IN</td>\n",
       "      <td>NaN</td>\n",
       "      <td>False</td>\n",
       "      <td>NaN</td>\n",
       "    </tr>\n",
       "  </tbody>\n",
       "</table>\n",
       "<p>1 rows × 23 columns</p>\n",
       "</div>"
      ],
      "text/plain": [
       "       index             Order ID       Date   Status Fulfilment  \\\n",
       "42039  42039  402-5239558-4281957 2022-04-05  Shipped     Amazon   \n",
       "\n",
       "      Sales Channel  ship-service-level   Style              SKU Category  \\\n",
       "42039      Amazon.in          Expedited  SET268  SET268-KR-NP-XS      Set   \n",
       "\n",
       "       ... Qty currency  Amount  ship-city      ship-state  ship-postal-code  \\\n",
       "42039  ...   8      INR  5584.0     GUNTUR  ANDHRA PRADESH          522007.0   \n",
       "\n",
       "      ship-country promotion-ids    B2B fulfilled-by  \n",
       "42039           IN           NaN  False          NaN  \n",
       "\n",
       "[1 rows x 23 columns]"
      ]
     },
     "execution_count": 52,
     "metadata": {},
     "output_type": "execute_result"
    }
   ],
   "source": [
    "# Find the row with the highest 'Amount' value\n",
    "most_costly_order = df[df['Amount'] == df['Amount'].max()]\n",
    "\n",
    "# Print the entire row of the most costly order\n",
    "most_costly_order"
   ]
  },
  {
   "cell_type": "markdown",
   "id": "9edf144d",
   "metadata": {},
   "source": [
    "### <span style='color:Blue'> *Observatios:* </span>\n",
    "Most costly order amount is 5584rs and the category ordered is Set , Ordered from city Guntur, state andhra pradesh."
   ]
  },
  {
   "cell_type": "markdown",
   "id": "80d2cd6e",
   "metadata": {},
   "source": [
    "## Most costliest Category/product"
   ]
  },
  {
   "cell_type": "code",
   "execution_count": 49,
   "id": "492a0216",
   "metadata": {},
   "outputs": [
    {
     "data": {
      "text/html": [
       "<div>\n",
       "<style scoped>\n",
       "    .dataframe tbody tr th:only-of-type {\n",
       "        vertical-align: middle;\n",
       "    }\n",
       "\n",
       "    .dataframe tbody tr th {\n",
       "        vertical-align: top;\n",
       "    }\n",
       "\n",
       "    .dataframe thead th {\n",
       "        text-align: right;\n",
       "    }\n",
       "</style>\n",
       "<table border=\"1\" class=\"dataframe\">\n",
       "  <thead>\n",
       "    <tr style=\"text-align: right;\">\n",
       "      <th></th>\n",
       "      <th>index</th>\n",
       "      <th>Order ID</th>\n",
       "      <th>Date</th>\n",
       "      <th>Status</th>\n",
       "      <th>Fulfilment</th>\n",
       "      <th>Sales Channel</th>\n",
       "      <th>ship-service-level</th>\n",
       "      <th>Style</th>\n",
       "      <th>SKU</th>\n",
       "      <th>Category</th>\n",
       "      <th>...</th>\n",
       "      <th>Qty</th>\n",
       "      <th>currency</th>\n",
       "      <th>Amount</th>\n",
       "      <th>ship-city</th>\n",
       "      <th>ship-state</th>\n",
       "      <th>ship-postal-code</th>\n",
       "      <th>ship-country</th>\n",
       "      <th>promotion-ids</th>\n",
       "      <th>B2B</th>\n",
       "      <th>fulfilled-by</th>\n",
       "    </tr>\n",
       "  </thead>\n",
       "  <tbody>\n",
       "    <tr>\n",
       "      <th>56307</th>\n",
       "      <td>56307</td>\n",
       "      <td>405-5657207-4685151</td>\n",
       "      <td>2022-05-26</td>\n",
       "      <td>Shipped - Delivered to Buyer</td>\n",
       "      <td>Merchant</td>\n",
       "      <td>Amazon.in</td>\n",
       "      <td>Standard</td>\n",
       "      <td>J0238</td>\n",
       "      <td>J0238-LCD-L</td>\n",
       "      <td>Set</td>\n",
       "      <td>...</td>\n",
       "      <td>1</td>\n",
       "      <td>INR</td>\n",
       "      <td>2598.0</td>\n",
       "      <td>THANE</td>\n",
       "      <td>MAHARASHTRA</td>\n",
       "      <td>400607.0</td>\n",
       "      <td>IN</td>\n",
       "      <td>Amazon PLCC Free-Financing Universal Merchant ...</td>\n",
       "      <td>False</td>\n",
       "      <td>Easy Ship</td>\n",
       "    </tr>\n",
       "    <tr>\n",
       "      <th>67764</th>\n",
       "      <td>67764</td>\n",
       "      <td>402-0603541-4663511</td>\n",
       "      <td>2022-05-16</td>\n",
       "      <td>Shipped - Delivered to Buyer</td>\n",
       "      <td>Merchant</td>\n",
       "      <td>Amazon.in</td>\n",
       "      <td>Standard</td>\n",
       "      <td>J0238</td>\n",
       "      <td>J0238-LCD-XL</td>\n",
       "      <td>Set</td>\n",
       "      <td>...</td>\n",
       "      <td>1</td>\n",
       "      <td>INR</td>\n",
       "      <td>2598.0</td>\n",
       "      <td>NAGPUR</td>\n",
       "      <td>MAHARASHTRA</td>\n",
       "      <td>440010.0</td>\n",
       "      <td>IN</td>\n",
       "      <td>Amazon PLCC Free-Financing Universal Merchant ...</td>\n",
       "      <td>False</td>\n",
       "      <td>Easy Ship</td>\n",
       "    </tr>\n",
       "    <tr>\n",
       "      <th>69527</th>\n",
       "      <td>69527</td>\n",
       "      <td>406-0207843-8044301</td>\n",
       "      <td>2022-05-15</td>\n",
       "      <td>Shipped - Delivered to Buyer</td>\n",
       "      <td>Merchant</td>\n",
       "      <td>Amazon.in</td>\n",
       "      <td>Standard</td>\n",
       "      <td>J0238</td>\n",
       "      <td>J0238-LCD-L</td>\n",
       "      <td>Set</td>\n",
       "      <td>...</td>\n",
       "      <td>1</td>\n",
       "      <td>INR</td>\n",
       "      <td>2598.0</td>\n",
       "      <td>SARDARSHAHAR</td>\n",
       "      <td>RAJASTHAN</td>\n",
       "      <td>331403.0</td>\n",
       "      <td>IN</td>\n",
       "      <td>Amazon PLCC Free-Financing Universal Merchant ...</td>\n",
       "      <td>False</td>\n",
       "      <td>Easy Ship</td>\n",
       "    </tr>\n",
       "    <tr>\n",
       "      <th>112946</th>\n",
       "      <td>112946</td>\n",
       "      <td>403-8890969-8669100</td>\n",
       "      <td>2022-06-11</td>\n",
       "      <td>Shipped</td>\n",
       "      <td>Amazon</td>\n",
       "      <td>Amazon.in</td>\n",
       "      <td>Expedited</td>\n",
       "      <td>J0238</td>\n",
       "      <td>J0238-LCD-XL</td>\n",
       "      <td>Set</td>\n",
       "      <td>...</td>\n",
       "      <td>1</td>\n",
       "      <td>INR</td>\n",
       "      <td>2598.0</td>\n",
       "      <td>NAVI MUMBAI</td>\n",
       "      <td>MAHARASHTRA</td>\n",
       "      <td>400701.0</td>\n",
       "      <td>IN</td>\n",
       "      <td>NaN</td>\n",
       "      <td>False</td>\n",
       "      <td>NaN</td>\n",
       "    </tr>\n",
       "    <tr>\n",
       "      <th>114176</th>\n",
       "      <td>114176</td>\n",
       "      <td>405-6605216-7124309</td>\n",
       "      <td>2022-06-11</td>\n",
       "      <td>Shipped</td>\n",
       "      <td>Amazon</td>\n",
       "      <td>Amazon.in</td>\n",
       "      <td>Expedited</td>\n",
       "      <td>J0238</td>\n",
       "      <td>J0238-LCD-XL</td>\n",
       "      <td>Set</td>\n",
       "      <td>...</td>\n",
       "      <td>1</td>\n",
       "      <td>INR</td>\n",
       "      <td>2598.0</td>\n",
       "      <td>HYDERABAD</td>\n",
       "      <td>TELANGANA</td>\n",
       "      <td>500050.0</td>\n",
       "      <td>IN</td>\n",
       "      <td>IN Core Free Shipping 2015/04/08 23-48-5-108</td>\n",
       "      <td>False</td>\n",
       "      <td>NaN</td>\n",
       "    </tr>\n",
       "    <tr>\n",
       "      <th>126821</th>\n",
       "      <td>126821</td>\n",
       "      <td>403-2726196-9752350</td>\n",
       "      <td>2022-06-02</td>\n",
       "      <td>Shipped - Delivered to Buyer</td>\n",
       "      <td>Merchant</td>\n",
       "      <td>Amazon.in</td>\n",
       "      <td>Standard</td>\n",
       "      <td>J0238</td>\n",
       "      <td>J0238-LCD-S</td>\n",
       "      <td>Set</td>\n",
       "      <td>...</td>\n",
       "      <td>1</td>\n",
       "      <td>INR</td>\n",
       "      <td>2598.0</td>\n",
       "      <td>DIGRAS</td>\n",
       "      <td>MAHARASHTRA</td>\n",
       "      <td>445203.0</td>\n",
       "      <td>IN</td>\n",
       "      <td>Amazon PLCC Free-Financing Universal Merchant ...</td>\n",
       "      <td>False</td>\n",
       "      <td>Easy Ship</td>\n",
       "    </tr>\n",
       "  </tbody>\n",
       "</table>\n",
       "<p>6 rows × 23 columns</p>\n",
       "</div>"
      ],
      "text/plain": [
       "         index             Order ID       Date                        Status  \\\n",
       "56307    56307  405-5657207-4685151 2022-05-26  Shipped - Delivered to Buyer   \n",
       "67764    67764  402-0603541-4663511 2022-05-16  Shipped - Delivered to Buyer   \n",
       "69527    69527  406-0207843-8044301 2022-05-15  Shipped - Delivered to Buyer   \n",
       "112946  112946  403-8890969-8669100 2022-06-11                       Shipped   \n",
       "114176  114176  405-6605216-7124309 2022-06-11                       Shipped   \n",
       "126821  126821  403-2726196-9752350 2022-06-02  Shipped - Delivered to Buyer   \n",
       "\n",
       "       Fulfilment Sales Channel  ship-service-level  Style           SKU  \\\n",
       "56307    Merchant      Amazon.in           Standard  J0238   J0238-LCD-L   \n",
       "67764    Merchant      Amazon.in           Standard  J0238  J0238-LCD-XL   \n",
       "69527    Merchant      Amazon.in           Standard  J0238   J0238-LCD-L   \n",
       "112946     Amazon      Amazon.in          Expedited  J0238  J0238-LCD-XL   \n",
       "114176     Amazon      Amazon.in          Expedited  J0238  J0238-LCD-XL   \n",
       "126821   Merchant      Amazon.in           Standard  J0238   J0238-LCD-S   \n",
       "\n",
       "       Category  ... Qty currency  Amount     ship-city   ship-state  \\\n",
       "56307       Set  ...   1      INR  2598.0         THANE  MAHARASHTRA   \n",
       "67764       Set  ...   1      INR  2598.0        NAGPUR  MAHARASHTRA   \n",
       "69527       Set  ...   1      INR  2598.0  SARDARSHAHAR    RAJASTHAN   \n",
       "112946      Set  ...   1      INR  2598.0   NAVI MUMBAI  MAHARASHTRA   \n",
       "114176      Set  ...   1      INR  2598.0     HYDERABAD    TELANGANA   \n",
       "126821      Set  ...   1      INR  2598.0        DIGRAS  MAHARASHTRA   \n",
       "\n",
       "        ship-postal-code ship-country  \\\n",
       "56307           400607.0           IN   \n",
       "67764           440010.0           IN   \n",
       "69527           331403.0           IN   \n",
       "112946          400701.0           IN   \n",
       "114176          500050.0           IN   \n",
       "126821          445203.0           IN   \n",
       "\n",
       "                                            promotion-ids    B2B fulfilled-by  \n",
       "56307   Amazon PLCC Free-Financing Universal Merchant ...  False    Easy Ship  \n",
       "67764   Amazon PLCC Free-Financing Universal Merchant ...  False    Easy Ship  \n",
       "69527   Amazon PLCC Free-Financing Universal Merchant ...  False    Easy Ship  \n",
       "112946                                                NaN  False          NaN  \n",
       "114176       IN Core Free Shipping 2015/04/08 23-48-5-108  False          NaN  \n",
       "126821  Amazon PLCC Free-Financing Universal Merchant ...  False    Easy Ship  \n",
       "\n",
       "[6 rows x 23 columns]"
      ]
     },
     "execution_count": 49,
     "metadata": {},
     "output_type": "execute_result"
    }
   ],
   "source": [
    "# Filter the DataFrame for rows where 'Quantity' is 1\n",
    "df_quantity_1 = df[df['Qty'] == 1]\n",
    "\n",
    "# Find the row with the highest 'Amount' value among products with 'Quantity' equal to 1\n",
    "most_costly_product_qty_1 = df_quantity_1[df_quantity_1['Amount'] == df_quantity_1['Amount'].max()]\n",
    "\n",
    "# Print the entire row of the most costly product with 'Quantity' equal to 1\n",
    "most_costly_product_qty_1\n"
   ]
  },
  {
   "cell_type": "markdown",
   "id": "87adcf32",
   "metadata": {},
   "source": [
    "### <span style='color:Blue'> *Observatios:* </span>\n",
    "\n",
    "Most costly category is Set , amount is 2598rs."
   ]
  },
  {
   "cell_type": "markdown",
   "id": "7efad4fe",
   "metadata": {},
   "source": [
    "## Max, Min , Average Order value"
   ]
  },
  {
   "cell_type": "code",
   "execution_count": 55,
   "id": "48d55c82",
   "metadata": {},
   "outputs": [
    {
     "name": "stdout",
     "output_type": "stream",
     "text": [
      "Maximum Order Value: 5584.0\n",
      "Minimum Order Value : 199.0\n",
      "Average Order Value: 661.3485555845408\n"
     ]
    }
   ],
   "source": [
    "# Filter the DataFrame to exclude orders with an order value of 0\n",
    "filtered_df = df[df['Amount'] > 0]\n",
    "\n",
    "# Calculate the minimum order value\n",
    "min_order_value = filtered_df['Amount'].min()\n",
    "\n",
    "# Calculate the maximum and average order values for this filtered DataFrame\n",
    "max_order_value = filtered_df['Amount'].max()\n",
    "avg_order_value = filtered_df['Amount'].mean()\n",
    "\n",
    "# Print the results\n",
    "print(\"Maximum Order Value:\", max_order_value)\n",
    "print(\"Minimum Order Value :\", min_order_value)\n",
    "print(\"Average Order Value:\", avg_order_value)\n"
   ]
  },
  {
   "cell_type": "markdown",
   "id": "287a5ee4",
   "metadata": {},
   "source": [
    "## **Overall Insights from Product/Category Analysis:**\n",
    "\n",
    "1. **Top 10 Products by Revenue Generation:** The top categories by revenue generation are \"Set,\" \"Kurta,\" and \"Western Dress.\" These categories consistently perform well and contribute significantly to the overall sales revenue.\n",
    "\n",
    "2. **Most Costly Order:** The most costly order observed in the dataset has a transaction amount of 5584 rupees. This high-value order was placed for a product in the \"Set\" category. The order originated from the city of Guntur in the state of Andhra Pradesh. This order stands out as an exceptional case in terms of its monetary value.\n",
    "\n",
    "3. **Most Costly Category/Product:** The \"Set\" category emerges as the most costly category based on the highest order amount, which is 2598 rupees. Customers appear willing to invest more in products within this category, potentially due to the perceived value or uniqueness of the items it comprises.\n",
    "\n",
    "4. **Order Value Statistics:**\n",
    "   - **Maximum Order Value:** The maximum order value observed in the dataset is 5584.0 rupees. This highlights the presence of high-value transactions within the sales data.\n",
    "   - **Minimum Order Value:** The minimum order value is 199.0 rupees, indicating that the dataset includes a range of order values.\n",
    "   - **Average Order Value:** The average order value, calculated at approximately 661.35 rupees, provides an overview of the typical spending behavior of customers. This metric can serve as a reference for evaluating order value performance.\n",
    "\n",
    "**Key Takeaways:**\n",
    "\n",
    "- Certain product categories, such as \"Set,\" \"Kurta,\" and \"Western Dress,\" consistently generate high revenue and are likely popular among customers.\n",
    "- The presence of a high-value order (5584 rupees) indicates the potential for substantial transactions within the e-commerce platform.\n",
    "- The \"Set\" category stands out as the most costly category, suggesting its significance in terms of revenue generation.\n",
    "- The range of order values, from 199.0 to 5584.0 rupees, illustrates the diversity of customer spending.\n",
    "- The average order value of 661.35 rupees provides a benchmark for understanding typical customer transactions.\n",
    "- These insights can inform inventory management, pricing strategies, and product promotions to maximize revenue and customer satisfaction. \n",
    "\n",
    "**Business Impact:** \n",
    "\n",
    "Identifying the top-performing products and categories allows businesses to focus on high-demand items, potentially increasing sales and profitability. Knowing the most costly products and categories helps in cost optimization and pricing strategies.\n"
   ]
  },
  {
   "cell_type": "markdown",
   "id": "b9b447a6",
   "metadata": {},
   "source": [
    "# Geographical analysis"
   ]
  },
  {
   "cell_type": "markdown",
   "id": "58808597",
   "metadata": {},
   "source": [
    "## Popular categories by state"
   ]
  },
  {
   "cell_type": "code",
   "execution_count": 97,
   "id": "2e8d781f",
   "metadata": {},
   "outputs": [
    {
     "name": "stdout",
     "output_type": "stream",
     "text": [
      "Most popular category in each ship-state:\n"
     ]
    },
    {
     "data": {
      "text/plain": [
       "ship-state      Category     \n",
       "MAHARASHTRA     kurta            8447\n",
       "                Set              8189\n",
       "KARNATAKA       kurta            6775\n",
       "                Set              6443\n",
       "TAMIL NADU      kurta            5821\n",
       "UTTAR PRADESH   Set              5153\n",
       "TELANGANA       kurta            4779\n",
       "                Set              3869\n",
       "UTTAR PRADESH   kurta            3457\n",
       "TAMIL NADU      Set              3391\n",
       "DELHI           Set              3090\n",
       "KERALA          kurta            2985\n",
       "MAHARASHTRA     Western Dress    2763\n",
       "ANDHRA PRADESH  kurta            2581\n",
       "WEST BENGAL     kurta            2571\n",
       "Name: Category, dtype: int64"
      ]
     },
     "execution_count": 97,
     "metadata": {},
     "output_type": "execute_result"
    }
   ],
   "source": [
    "\n",
    "# Get the most popular category in each ship-city\n",
    "most_popular_category_per_state = df.groupby('ship-state')['Category'].value_counts().sort_values(ascending=False).head(15)\n",
    "\n",
    "print(\"Most popular category in each ship-state:\")\n",
    "most_popular_category_per_state"
   ]
  },
  {
   "cell_type": "markdown",
   "id": "3f835830",
   "metadata": {},
   "source": [
    "##  Popular categories by city"
   ]
  },
  {
   "cell_type": "code",
   "execution_count": 99,
   "id": "c538112d",
   "metadata": {},
   "outputs": [
    {
     "name": "stdout",
     "output_type": "stream",
     "text": [
      "Most popular category in each ship-city:\n"
     ]
    },
    {
     "data": {
      "text/plain": [
       "ship-city  Category\n",
       "BENGALURU  kurta       4304\n",
       "           Set         4059\n",
       "HYDERABAD  kurta       3373\n",
       "           Set         2729\n",
       "CHENNAI    kurta       2665\n",
       "NEW DELHI  Set         2655\n",
       "MUMBAI     Set         2274\n",
       "           kurta       2128\n",
       "NEW DELHI  kurta       1809\n",
       "CHENNAI    Set         1611\n",
       "Name: Category, dtype: int64"
      ]
     },
     "execution_count": 99,
     "metadata": {},
     "output_type": "execute_result"
    }
   ],
   "source": [
    "\n",
    "# Get the most popular category in each ship-city\n",
    "most_popular_category_per_city = df.groupby('ship-city')['Category'].value_counts().sort_values(ascending=False).head(10)\n",
    "\n",
    "print(\"Most popular category in each ship-city:\")\n",
    "most_popular_category_per_city"
   ]
  },
  {
   "cell_type": "markdown",
   "id": "17cb6cf9",
   "metadata": {},
   "source": [
    " ## Top_ship_cities by revenue "
   ]
  },
  {
   "cell_type": "code",
   "execution_count": 58,
   "id": "2585fcc7",
   "metadata": {},
   "outputs": [
    {
     "name": "stdout",
     "output_type": "stream",
     "text": [
      "Top 10 Ship Cities by Revenue:\n",
      "   Ship City     Revenue  Percentage (%)\n",
      "0  BENGALURU  6849664.99        8.715398\n",
      "1  HYDERABAD  4946032.82        6.293249\n",
      "2     MUMBAI  3704461.80        4.713495\n",
      "3  NEW DELHI  3613874.78        4.598233\n",
      "4    CHENNAI  3098745.74        3.942792\n",
      "5       PUNE  2338518.18        2.975491\n",
      "6    KOLKATA  1414978.87        1.800395\n",
      "7   GURUGRAM  1221618.74        1.554367\n",
      "8      THANE  1004355.29        1.277925\n",
      "9    LUCKNOW   933926.34        1.188312\n"
     ]
    }
   ],
   "source": [
    "# Calculate the total revenue\n",
    "total_revenue = df['Amount'].sum()\n",
    "\n",
    "# Group by 'ship-city' and calculate the sum of 'Amount'\n",
    "ship_city_revenue = df.groupby('ship-city')['Amount'].sum().sort_values(ascending=False)\n",
    "\n",
    "# Calculate the percentages\n",
    "ship_city_percentages = (ship_city_revenue / total_revenue) * 100\n",
    "\n",
    "# Create a DataFrame with ship cities, revenue, and percentages\n",
    "ship_city_df = pd.DataFrame({'Ship City': ship_city_revenue.index, 'Revenue': ship_city_revenue.values, 'Percentage (%)': ship_city_percentages.values})\n",
    "\n",
    "# Get the top 10 ship cities\n",
    "top_ship_cities = ship_city_df.head(10)\n",
    "\n",
    "print(\"Top 10 Ship Cities by Revenue:\")\n",
    "print(top_ship_cities)\n"
   ]
  },
  {
   "cell_type": "markdown",
   "id": "fa3a665d",
   "metadata": {},
   "source": [
    "## Top_ship_states by revenue"
   ]
  },
  {
   "cell_type": "code",
   "execution_count": 59,
   "id": "6800cda1",
   "metadata": {},
   "outputs": [
    {
     "name": "stdout",
     "output_type": "stream",
     "text": [
      "\n",
      "Top 10 Ship States by Revenue:\n",
      "       Ship State      Revenue  Percentage (%)\n",
      "0     MAHARASHTRA  13335534.14       16.967909\n",
      "1       KARNATAKA  10481114.37       13.335993\n",
      "2       TELANGANA   6916615.65        8.800585\n",
      "3   UTTAR PRADESH   6816642.08        8.673381\n",
      "4      TAMIL NADU   6515650.11        8.290403\n",
      "5           DELHI   4235215.97        5.388817\n",
      "6          KERALA   3830227.58        4.873517\n",
      "7     WEST BENGAL   3507880.44        4.463368\n",
      "8  ANDHRA PRADESH   3219831.72        4.096860\n",
      "9         HARYANA   2882092.99        3.667127\n"
     ]
    }
   ],
   "source": [
    "# Group by 'ship-state' and calculate the sum of 'Amount'\n",
    "ship_state_revenue = df.groupby('ship-state')['Amount'].sum().sort_values(ascending=False)\n",
    "\n",
    "# Calculate the percentages\n",
    "ship_state_percentages = (ship_state_revenue / total_revenue) * 100\n",
    "\n",
    "# Create a DataFrame with ship states, revenue, and percentages\n",
    "ship_state_df = pd.DataFrame({'Ship State': ship_state_revenue.index, 'Revenue': ship_state_revenue.values, 'Percentage (%)': ship_state_percentages.values})\n",
    "\n",
    "# Get the top 10 ship states\n",
    "top_ship_states = ship_state_df.head(10)\n",
    "\n",
    "print(\"\\nTop 10 Ship States by Revenue:\")\n",
    "print(top_ship_states)\n"
   ]
  },
  {
   "cell_type": "markdown",
   "id": "69a76236",
   "metadata": {},
   "source": [
    "### <span style='color:Blue'> *Observatios:* </span>\n",
    "\n",
    "* Set, Kurta are most popular categories in states and cities.\n",
    "* Banglore, hyderabad, mumbai are among top cities generating revenue, where as Maharashtra , karnataka and telangana are among top states "
   ]
  },
  {
   "cell_type": "markdown",
   "id": "45b8aee4",
   "metadata": {},
   "source": [
    "## **Overall Insights from Geographical Analysis:**\n",
    "\n",
    "1. **Popular Categories by State:** The analysis reveals the most popular categories in various states, based on the highest number of orders placed for each category. Here are some key observations:\n",
    "   - **Maharashtra:** The most popular categories in Maharashtra are \"Kurta\" and \"Set,\" with 8,447 and 8,189 orders, respectively.\n",
    "   - **Karnataka:** In Karnataka, \"Kurta\" and \"Set\" are also the most popular categories, with 6,775 and 6,443 orders, respectively.\n",
    "   - **Tamil Nadu:** \"Kurta\" leads in Tamil Nadu with 5,821 orders, followed by \"Set\" with 3,391 orders.\n",
    "   - **Uttar Pradesh:** Uttar Pradesh's most popular category is \"Set,\" with 5,153 orders.\n",
    "   - **Telangana:** Telangana customers prefer \"Kurta\" (4,779 orders) and \"Set\" (3,869 orders).\n",
    "   - **Delhi:** In Delhi, \"Set\" is the most popular category, with 3,090 orders.\n",
    "   - **Kerala:** Kerala residents favor \"Kurta\" with 2,985 orders.\n",
    "   \n",
    "2. **Popular Categories by City:** The analysis also identifies the most popular categories in various cities, based on the highest number of orders placed for each category. Here are key findings:\n",
    "   - **Bengaluru:** In Bengaluru, both \"Kurta\" and \"Set\" are equally popular, with 4,304 orders each.\n",
    "   - **Hyderabad:** \"Kurta\" leads in Hyderabad with 3,373 orders, followed by \"Set\" with 2,729 orders.\n",
    "   - **Chennai:** Chennai customers prefer \"Kurta\" (2,665 orders).\n",
    "   - **New Delhi:** \"Set\" is the most popular category in New Delhi (2,655 orders).\n",
    "   - **Mumbai:** In Mumbai, \"Set\" is more popular than \"Kurta,\" with 2,274 and 2,128 orders, respectively.\n",
    "   \n",
    "3. **Top Ship Cities by Revenue:** The analysis identifies the top 10 cities with the highest total revenue generated. Key insights include:\n",
    "   - **Bengaluru:** Bengaluru tops the list with revenue of ₹6,849,665.00, contributing to 8.72% of the total revenue.\n",
    "   - **Hyderabad:** Hyderabad follows closely with ₹4,946,032.82 in revenue (6.29% of the total).\n",
    "   - **Mumbai:** Mumbai ranks third with ₹3,704,461.80 in revenue (4.71% of the total).\n",
    "   - **New Delhi:** New Delhi is also a significant revenue generator with ₹3,613,874.78 (4.60% of the total).\n",
    "   - **Chennai:** Chennai contributes ₹3,098,745.74 to the total revenue (3.94% of the total).\n",
    "   \n",
    "4. **Top Ship States by Revenue:** The analysis identifies the top 10 states with the highest total revenue generated. Key insights include:\n",
    "   - **Maharashtra:** Maharashtra leads the list with revenue of ₹13,335,534.14, accounting for 16.97% of the total revenue.\n",
    "   - **Karnataka:** Karnataka follows closely with ₹10,481,114.37 in revenue (13.34% of the total).\n",
    "   - **Telangana:** Telangana is a significant revenue contributor with ₹6,916,615.65 (8.80% of the total).\n",
    "   - **Uttar Pradesh:** Uttar Pradesh also generates substantial revenue with ₹6,816,642.08 (8.67% of the total).\n",
    "   - **Tamil Nadu:** Tamil Nadu contributes ₹6,515,650.11 to the total revenue (8.29% of the total).\n",
    "   \n",
    "**Key Takeaways:**\n",
    "\n",
    "- The categories \"Set\" and \"Kurta\" consistently emerge as the most popular choices among customers, both at the state and city levels.\n",
    "- Cities like Bengaluru, Hyderabad, and Mumbai play a significant role in revenue generation, indicating strong customer bases and market presence.\n",
    "- Maharashtra and Karnataka lead in terms of total revenue at the state level, suggesting a high level of market activity and customer engagement in these regions.\n",
    "- The distribution of popular categories provides valuable insights for inventory management, marketing strategies, and product promotions tailored to specific regions.\n",
    "- Focusing on top-performing cities and states can help optimize marketing efforts and potentially expand the customer base in these areas.\n",
    "- Overall, this geographical analysis offers actionable insights to target specific categories and regions for business growth and customer engagement.\n",
    "\n",
    "**Business Impact:** \n",
    "\n",
    "Recognizing popular categories and cities/states can aid in targeted marketing efforts and inventory management. It can also guide expansion strategies by identifying regions with high demand."
   ]
  },
  {
   "cell_type": "markdown",
   "id": "b23da2d4",
   "metadata": {},
   "source": [
    "# Promotion analysis"
   ]
  },
  {
   "cell_type": "markdown",
   "id": "2138ffb5",
   "metadata": {},
   "source": [
    "## Average order value vs Average order value with promotion"
   ]
  },
  {
   "cell_type": "code",
   "execution_count": 63,
   "id": "9947cfb6",
   "metadata": {},
   "outputs": [
    {
     "name": "stdout",
     "output_type": "stream",
     "text": [
      "Average order value: 648.5614647631628\n",
      "Average order value with promotion-ids: 674.2210185954052\n"
     ]
    }
   ],
   "source": [
    "# Find the average order value\n",
    "average_order_value = df[\"Amount\"].mean()\n",
    "print(\"Average order value:\", average_order_value)\n",
    "\n",
    "# Find the average order value with promotion-ids\n",
    "df_with_promotion_ids = df[df[\"promotion-ids\"].notnull()]\n",
    "average_order_value_with_promotion_ids = df_with_promotion_ids[\"Amount\"].mean()\n",
    "print(\"Average order value with promotion-ids:\", average_order_value_with_promotion_ids)\n"
   ]
  },
  {
   "cell_type": "markdown",
   "id": "36c6bef3",
   "metadata": {},
   "source": [
    "## City with the most promotion-ids usage"
   ]
  },
  {
   "cell_type": "code",
   "execution_count": 64,
   "id": "6c1578ea",
   "metadata": {},
   "outputs": [
    {
     "name": "stdout",
     "output_type": "stream",
     "text": [
      "Ship-city with the most promotion-ids: BENGALURU\n"
     ]
    }
   ],
   "source": [
    "# Find the ship-city with the most promotion-ids\n",
    "df_grouped_by_ship_city = df.groupby('ship-city')['promotion-ids'].count()\n",
    "\n",
    "most_promotion_ids_ship_city = df_grouped_by_ship_city.sort_values(ascending=False).index[0]\n",
    "\n",
    "print(\"Ship-city with the most promotion-ids:\", most_promotion_ids_ship_city)\n"
   ]
  },
  {
   "cell_type": "markdown",
   "id": "65e85930",
   "metadata": {},
   "source": [
    "## Top 10 cities with promotion-ids usage"
   ]
  },
  {
   "cell_type": "code",
   "execution_count": 67,
   "id": "315dd591",
   "metadata": {},
   "outputs": [
    {
     "name": "stdout",
     "output_type": "stream",
     "text": [
      "Top 10 cities with promotion-ids:\n",
      "ship-city\n",
      "BENGALURU    6183\n",
      "HYDERABAD    4474\n",
      "NEW DELHI    3677\n",
      "CHENNAI      3061\n",
      "MUMBAI       2920\n",
      "PUNE         1861\n",
      "KOLKATA      1389\n",
      "GURUGRAM     1077\n",
      "LUCKNOW      1008\n",
      "NOIDA         840\n",
      "Name: promotion-ids, dtype: int64\n"
     ]
    }
   ],
   "source": [
    "# Find the top 10 cities with promotion-ids\n",
    "df_grouped_by_ship_city = df.groupby('ship-city')['promotion-ids'].count()\n",
    "\n",
    "top_10_cities_with_promotion_ids = df_grouped_by_ship_city.sort_values(ascending=False).head(10)\n",
    "\n",
    "print(\"Top 10 cities with promotion-ids:\")\n",
    "print(top_10_cities_with_promotion_ids)\n"
   ]
  },
  {
   "cell_type": "markdown",
   "id": "8301c3fe",
   "metadata": {},
   "source": [
    "## Categories vs promotion-ids"
   ]
  },
  {
   "cell_type": "code",
   "execution_count": 7,
   "id": "015a9927",
   "metadata": {},
   "outputs": [
    {
     "name": "stdout",
     "output_type": "stream",
     "text": [
      "categories with promotion-ids:\n",
      "Category\n",
      "Set              33204\n",
      "kurta            28019\n",
      "Western Dress    11102\n",
      "Top               5938\n",
      "Ethnic Dress       649\n",
      "Blouse             499\n",
      "Bottom             292\n",
      "Saree              116\n",
      "Dupatta              3\n",
      "Name: promotion-ids, dtype: int64\n"
     ]
    }
   ],
   "source": [
    "# Find the top 10 categories with promotion-ids\n",
    "df_grouped_by_categories = df.groupby('Category')['promotion-ids'].count()\n",
    "\n",
    "categories_with_promotion_ids = df_grouped_by_categories.sort_values(ascending=False).head(10)\n",
    "\n",
    "print(\"categories with promotion-ids:\")\n",
    "print(categories_with_promotion_ids)\n"
   ]
  },
  {
   "cell_type": "markdown",
   "id": "9f207882",
   "metadata": {},
   "source": [
    "### <span style='color:Blue'> *Observatios:* </span>\n",
    "\n",
    "\n",
    "- The average order value is higher for orders that have promotion-ids. This means that promotions are effective in increasing the average order value.\n",
    "- The top 10 cities with promotion-ids are Bengaluru, Hyderabad, New Delhi, Chennai, Mumbai, Pune, Kolkata, Gurugram, Lucknow, and Noida. \n",
    "- The top 10 categories with promotion-ids are Set, Kurta, Western Dress, Top, Ethnic Dress, Blouse, Bottom, Saree, and Dupatta. This shows that promotions are used across a variety of product categories."
   ]
  },
  {
   "cell_type": "markdown",
   "id": "8a3bf332",
   "metadata": {},
   "source": [
    "## **Overall Insights from Promotion Analysis:**\n",
    "\n",
    "1. **Average Order Value Comparison:** The analysis compares the average order value (AOV) with and without promotion-ids, providing insights into the impact of promotions on order values.\n",
    "   - **Average Order Value (AOV):** The AOV for all orders is ₹648.56.\n",
    "   - **Average Order Value with Promotion-ids:** Orders with promotion-ids have a higher AOV of ₹674.22. This suggests that promotions positively influence customers to spend more per order.\n",
    "\n",
    "2. **City with the Most Promotion-ids Usage:** The analysis identifies the city with the highest usage of promotion-ids.\n",
    "   - **City with the Most Promotion-ids:** Bengaluru stands out as the city with the most promotion-ids usage. This indicates that promotions are actively utilized by customers in Bengaluru.\n",
    "\n",
    "3. **Top 10 Cities with Promotion-ids Usage:** The analysis lists the top 10 cities with the highest usage of promotion-ids.\n",
    "   - **Top 10 Cities with Promotion-ids:**\n",
    "     1. Bengaluru: 6,183 orders with promotion-ids.\n",
    "     2. Hyderabad: 4,474 orders with promotion-ids.\n",
    "     3. New Delhi: 3,677 orders with promotion-ids.\n",
    "     4. Chennai: 3,061 orders with promotion-ids.\n",
    "     5. Mumbai: 2,920 orders with promotion-ids.\n",
    "     6. Pune: 1,861 orders with promotion-ids.\n",
    "     7. Kolkata: 1,389 orders with promotion-ids.\n",
    "     8. Gurugram: 1,077 orders with promotion-ids.\n",
    "     9. Lucknow: 1,008 orders with promotion-ids.\n",
    "     10. Noida: 840 orders with promotion-ids.\n",
    "\n",
    "4. **Categories Ordered with Promotion-ids:** The analysis identifies the categories that customers frequently order with promotion-ids.\n",
    "   - **Categories with Promotion-ids:**\n",
    "     - Set: 33,204 orders with promotion-ids.\n",
    "     - Kurta: 28,019 orders with promotion-ids.\n",
    "     - Western Dress: 11,102 orders with promotion-ids.\n",
    "     - Top: 5,938 orders with promotion-ids.\n",
    "     - Ethnic Dress: 649 orders with promotion-ids.\n",
    "     - Blouse: 499 orders with promotion-ids.\n",
    "     - Bottom: 292 orders with promotion-ids.\n",
    "     - Saree: 116 orders with promotion-ids.\n",
    "     - Dupatta: 3 orders with promotion-ids.\n",
    "\n",
    "**Key Takeaways:**\n",
    "\n",
    "- Promotions have a positive impact on order values, as evidenced by the higher average order value for orders with promotion-ids.\n",
    "- Bengaluru is the city with the highest promotion-ids usage, suggesting that customers in this city are more responsive to promotions.\n",
    "- The top 10 cities with promotion-ids usage are spread across different regions, indicating the effectiveness of promotions in attracting customers from various locations.\n",
    "- Promotions are used across a diverse range of product categories, including Set, Kurta, Western Dress, Top, and more. This versatility highlights the potential to apply promotions strategically to different product lines.\n",
    "- Overall, the promotion analysis provides valuable insights into the effectiveness of promotions in increasing order values and their widespread usage across cities and product categories. Businesses can use these insights to refine their promotion strategies and target specific regions and categories for promotional campaigns.\n",
    "\n",
    "**Business Impact:** \n",
    "\n",
    "Understanding the impact of promotions on average order value and their usage across cities and categories can help fine-tune promotional campaigns. It can lead to increased customer engagement and loyalty."
   ]
  },
  {
   "cell_type": "markdown",
   "id": "81af4540",
   "metadata": {},
   "source": [
    "# Cancellation analysis"
   ]
  },
  {
   "cell_type": "markdown",
   "id": "678e1603",
   "metadata": {},
   "source": [
    "## Categories vs Cancellations"
   ]
  },
  {
   "cell_type": "code",
   "execution_count": 78,
   "id": "db75cd80",
   "metadata": {},
   "outputs": [
    {
     "name": "stdout",
     "output_type": "stream",
     "text": [
      "Category where Status is cancelled most number of times:\n",
      "Set              7337\n",
      "kurta            7255\n",
      "Western Dress    2122\n",
      "Top              1276\n",
      "Ethnic Dress      145\n",
      "Blouse            116\n",
      "Bottom             60\n",
      "Saree              21\n",
      "Name: Category, dtype: int64\n"
     ]
    }
   ],
   "source": [
    "# Filter for cancelled orders\n",
    "df_cancelled_orders = df[df['Status'] == 'Cancelled']\n",
    "\n",
    "# Get the number of cancelled orders for each category\n",
    "cancelled_orders_per_category = df_cancelled_orders['Category'].value_counts()\n",
    "\n",
    "# Get the category with the most cancelled orders\n",
    "most_cancelled_orders_category = cancelled_orders_per_category.sort_values(ascending=False).head(10)\n",
    "\n",
    "print(\"Category where Status is cancelled most number of times:\")\n",
    "print(most_cancelled_orders_category)"
   ]
  },
  {
   "cell_type": "markdown",
   "id": "de8a6813",
   "metadata": {},
   "source": [
    "## City vs Cancellations"
   ]
  },
  {
   "cell_type": "code",
   "execution_count": 79,
   "id": "51f17aac",
   "metadata": {},
   "outputs": [
    {
     "name": "stdout",
     "output_type": "stream",
     "text": [
      "Cities where Status is cancelled most number of times:\n",
      "BENGALURU    1312\n",
      "HYDERABAD    1148\n",
      "NEW DELHI     775\n",
      "MUMBAI        747\n",
      "CHENNAI       738\n",
      "PUNE          499\n",
      "KOLKATA       305\n",
      "THANE         239\n",
      "LUCKNOW       228\n",
      "GURUGRAM      211\n",
      "Name: ship-city, dtype: int64\n"
     ]
    }
   ],
   "source": [
    "# Filter for cancelled orders\n",
    "df_cancelled_orders = df[df['Status'] == 'Cancelled']\n",
    "\n",
    "# Get the number of cancelled orders for each category\n",
    "cancelled_orders_per_category = df_cancelled_orders['ship-city'].value_counts()\n",
    "\n",
    "# Get the category with the most cancelled orders\n",
    "most_cancelled_orders_category = cancelled_orders_per_category.sort_values(ascending=False).head(10)\n",
    "\n",
    "print(\"Cities where Status is cancelled most number of times:\")\n",
    "print(most_cancelled_orders_category)"
   ]
  },
  {
   "cell_type": "markdown",
   "id": "fbad8249",
   "metadata": {},
   "source": [
    "## Month vs Cancellations"
   ]
  },
  {
   "cell_type": "code",
   "execution_count": 83,
   "id": "eda858d6",
   "metadata": {},
   "outputs": [
    {
     "name": "stdout",
     "output_type": "stream",
     "text": [
      "Cancellations in each month:\n",
      "4    7137\n",
      "5    5874\n",
      "6    5303\n",
      "3      18\n",
      "Name: Month, dtype: int64\n"
     ]
    }
   ],
   "source": [
    "\n",
    "# Filter for cancelled orders\n",
    "df_cancelled_orders = df[df['Status'] == 'Cancelled']\n",
    "\n",
    "# Get the month of each order\n",
    "df_cancelled_orders['Month'] = df_cancelled_orders['Date'].dt.month\n",
    "\n",
    "# Get the number of cancelled orders for each month\n",
    "cancelled_orders_per_month = df_cancelled_orders['Month'].value_counts()\n",
    "\n",
    "print(\"Cancellations in each month:\")\n",
    "print(cancelled_orders_per_month)"
   ]
  },
  {
   "cell_type": "code",
   "execution_count": 86,
   "id": "f8bdd4b6",
   "metadata": {},
   "outputs": [
    {
     "data": {
      "image/png": "[encoded data removed]",
      "text/plain": [
       "<Figure size 432x288 with 1 Axes>"
      ]
     },
     "metadata": {
      "needs_background": "light"
     },
     "output_type": "display_data"
    }
   ],
   "source": [
    "# Filter for cancelled orders\n",
    "df_cancelled_orders = df[df['Status'] == 'Cancelled']\n",
    "\n",
    "# Get the month of each order\n",
    "df_cancelled_orders['Month'] = df_cancelled_orders['Date'].dt.month\n",
    "\n",
    "# Calculate the number of cancellations for each month\n",
    "cancelled_orders_per_month = df_cancelled_orders['Month'].value_counts()\n",
    "\n",
    "# Plot the number of cancellations per month\n",
    "cancelled_orders_per_month.plot(kind='bar')\n",
    "plt.xlabel('Month')\n",
    "plt.ylabel('Number of cancellations')\n",
    "plt.title('Trend in cancellations')\n",
    "plt.show()\n"
   ]
  },
  {
   "cell_type": "markdown",
   "id": "93ec2019",
   "metadata": {},
   "source": [
    "### <span style='color:Blue'> *Observatios:* </span>\n",
    "\n",
    "* The month with the most cancellations is April, followed by May. This could be because April is a popular month for online shopping, and there may be more cancellations due to shipping delays or other factors.\n",
    "* The city with the most cancellations is Bengaluru, followed by Hyderabad and New Delhi. This could be because these cities are large and have a high population, so there may be more orders placed from these areas.\n",
    "* The category with the most cancellations is Set, followed by Kurta and Western Dress. This could be because these categories are popular and there may be more orders placed for these items."
   ]
  },
  {
   "cell_type": "markdown",
   "id": "d9942ff8",
   "metadata": {},
   "source": [
    "## **Overall Insights from Cancellation Analysis:**\n",
    "\n",
    "1. **Categories vs. Cancellations:** The analysis examines the categories that are most frequently canceled in the dataset.\n",
    "   - **Top Categories by Cancellations:**\n",
    "     - Set: 7,337 cancellations.\n",
    "     - Kurta: 7,255 cancellations.\n",
    "     - Western Dress: 2,122 cancellations.\n",
    "     - Top: 1,276 cancellations.\n",
    "     - Ethnic Dress: 145 cancellations.\n",
    "     - Blouse: 116 cancellations.\n",
    "     - Bottom: 60 cancellations.\n",
    "     - Saree: 21 cancellations.\n",
    "   \n",
    "   - **Insight:** Set and Kurta are the top two categories with the highest number of cancellations. This suggests that customers frequently cancel orders for these product categories, possibly due to various reasons like changing preferences or shipping issues.\n",
    "\n",
    "2. **City vs. Cancellations:** The analysis identifies the cities with the highest number of order cancellations.\n",
    "   - **Cities with the Most Cancellations:**\n",
    "     - Bengaluru: 1,312 cancellations.\n",
    "     - Hyderabad: 1,148 cancellations.\n",
    "     - New Delhi: 775 cancellations.\n",
    "     - Mumbai: 747 cancellations.\n",
    "     - Chennai: 738 cancellations.\n",
    "     - Pune: 499 cancellations.\n",
    "     - Kolkata: 305 cancellations.\n",
    "     - Thane: 239 cancellations.\n",
    "     - Lucknow: 228 cancellations.\n",
    "     - Gurugram: 211 cancellations.\n",
    "   \n",
    "   - **Insight:** Bengaluru has the highest number of cancellations, followed by Hyderabad and New Delhi. These cities, being major urban centers, may experience higher order volumes and, consequently, more cancellations due to various factors.\n",
    "\n",
    "3. **Month vs. Cancellations:** The analysis examines cancellations by month.\n",
    "   - **Cancellations by Month:**\n",
    "     - April: 7,137 cancellations.\n",
    "     - May: 5,874 cancellations.\n",
    "     - June: 5,303 cancellations.\n",
    "     - March: 18 cancellations.\n",
    "   \n",
    "   - **Insight:** April has the highest number of cancellations, followed by May and June. This pattern may be related to seasonal trends, promotions, or external factors affecting order cancellations.\n",
    "\n",
    "**Key Takeaways:**\n",
    "\n",
    "- Set and Kurta are the product categories with the highest number of cancellations, suggesting that these categories may need additional attention to reduce cancellation rates or improve customer satisfaction.\n",
    "- Cities like Bengaluru, Hyderabad, and New Delhi experience a significant number of cancellations, which could be attributed to higher order volumes and complex logistics in these urban areas.\n",
    "- Monitoring and analyzing cancellation trends by month can help businesses identify seasonal patterns and adjust their operations and customer service strategies accordingly.\n",
    "- Overall, the cancellation analysis provides valuable insights into product categories, cities, and timing associated with order cancellations. Businesses can use these insights to implement strategies to reduce cancellations, such as improving product descriptions, enhancing customer service, or optimizing delivery processes.\n",
    "\n",
    "**Business Impact:**\n",
    "\n",
    "Identifying the most common reasons for cancellations, especially in high-demand months and regions, can lead to improvements in shipping, customer service, and inventory management. Reducing cancellations can enhance customer satisfaction and revenue."
   ]
  },
  {
   "cell_type": "markdown",
   "id": "c79e84ea",
   "metadata": {},
   "source": [
    "### Summary:\n",
    "In this e-commerce sales analysis, we have conducted a thorough examination of the provided dataset. The primary focus was on preprocessing data columns for subsequent analysis. We performed detailed analyses of various components of sales data, including revenue analysis, product analysis, geographical analysis, promotion analysis, and cancellations analysis. At each step, we extracted meaningful insights and evaluated their potential business impact.\n",
    "\n",
    "### Conclusion:\n",
    "This analysis has enabled us to gain valuable insights into the e-commerce sales data. By dissecting and understanding different aspects of sales, we are better equipped to make informed decisions and optimize various facets of the e-commerce business."
   ]
  },
  {
   "cell_type": "markdown",
   "id": "0df96c1b",
   "metadata": {},
   "source": [
    "## Thank you"
   ]
  },
  {
   "cell_type": "markdown",
   "id": "bcfb2c04",
   "metadata": {},
   "source": [
    "## -Raviteja"
   ]
  },
  {
   "cell_type": "markdown",
   "id": "1308a832",
   "metadata": {},
   "source": [
    "\n",
    "<img align=\"left\" img src= in.png height = 20 width=\"20\"/>   https://www.linkedin.com/in/raviteja-padala/ "
   ]
  },
  {
   "cell_type": "code",
   "execution_count": null,
   "id": "fb37e47e",
   "metadata": {},
   "outputs": [],
   "source": []
  }
 ],
 "metadata": {
  "kernelspec": {
   "display_name": "Python 3 (ipykernel)",
   "language": "python",
   "name": "python3"
  },
  "language_info": {
   "codemirror_mode": {
    "name": "ipython",
    "version": 3
   },
   "file_extension": ".py",
   "mimetype": "text/x-python",
   "name": "python",
   "nbconvert_exporter": "python",
   "pygments_lexer": "ipython3",
   "version": "3.9.12"
  }
 },
 "nbformat": 4,
 "nbformat_minor": 5
}
