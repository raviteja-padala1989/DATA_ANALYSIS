{
 "cells": [
  {
   "cell_type": "markdown",
   "id": "456ecf9e",
   "metadata": {},
   "source": [
    "# Ecommerce data- Exploratory Data Analysis"
   ]
  },
  {
   "cell_type": "markdown",
   "id": "4177a1b6",
   "metadata": {},
   "source": [
    "### <span style='color:Blue'> *Objective:* </span> \n",
    "\n",
    "The primary objective is to conduct an in-depth exploratory data analysis (EDA) of the e-commerce sales dataset. Through this analysis, we aim to extract valuable insights from each attribute within the dataset. These insights will serve as a foundation for more advanced analyses and data-driven decision-making in various aspects of our business operations.\n",
    "\n",
    "The specific goals of this EDA are as follows:\n",
    "\n",
    "1. **Understand Data Composition**: Gain a comprehensive understanding of the dataset's structure, including the number of records, attributes, and data types. This initial exploration will help us establish a solid foundation for subsequent analyses.\n",
    "\n",
    "2. **Attribute Insights**: Examine each attribute in the dataset, such as 'Order ID,' 'Date,' 'Status,' 'Fulfilment,' 'Sales Channel,' 'ship-service-level,' 'Style,' 'SKU,' 'Category,' 'Quantity,' 'currency,' 'Amount,' 'ship-city,' 'ship-state,' 'ship-postal-code,' 'ship-country,' 'promotion-ids,' 'B2B,' and 'fulfilled-by.' Understand the meaning and relevance of each attribute in the context of our business.\n",
    "\n",
    "3. **Statistical Summaries**: Compute descriptive statistics for numerical attributes (e.g., 'Quantity,' 'Amount') to understand their central tendencies and distributions. For categorical attributes (e.g., 'Status,' 'Category'), calculate frequency distributions.\n",
    "\n",
    "5. **Visualization**: Utilize data visualization techniques,  to visually explore the data. Visualizations will help reveal patterns, trend.\n"
   ]
  },
  {
   "cell_type": "markdown",
   "id": "ec407990",
   "metadata": {},
   "source": [
    "## Import libraries and dataset"
   ]
  },
  {
   "cell_type": "code",
   "execution_count": 1,
   "id": "36f4dc0d",
   "metadata": {},
   "outputs": [],
   "source": [
    "#import libraries\n",
    "\n",
    "import pandas as pd\n",
    "import numpy as np\n",
    "import seaborn as sns\n",
    "import matplotlib.pyplot as plt\n",
    "import warnings\n",
    "warnings.filterwarnings('ignore')"
   ]
  },
  {
   "cell_type": "code",
   "execution_count": 2,
   "id": "02c7ac50",
   "metadata": {},
   "outputs": [],
   "source": [
    "#load dataset\n",
    "\n",
    "df = pd.read_csv(\"Amazon_Sale_Report.csv\")"
   ]
  },
  {
   "cell_type": "markdown",
   "id": "6105a3d0",
   "metadata": {},
   "source": [
    "## Explore Dataset"
   ]
  },
  {
   "cell_type": "code",
   "execution_count": 3,
   "id": "1efff697",
   "metadata": {},
   "outputs": [
    {
     "data": {
      "text/html": [
       "<div>\n",
       "<style scoped>\n",
       "    .dataframe tbody tr th:only-of-type {\n",
       "        vertical-align: middle;\n",
       "    }\n",
       "\n",
       "    .dataframe tbody tr th {\n",
       "        vertical-align: top;\n",
       "    }\n",
       "\n",
       "    .dataframe thead th {\n",
       "        text-align: right;\n",
       "    }\n",
       "</style>\n",
       "<table border=\"1\" class=\"dataframe\">\n",
       "  <thead>\n",
       "    <tr style=\"text-align: right;\">\n",
       "      <th></th>\n",
       "      <th>index</th>\n",
       "      <th>Order ID</th>\n",
       "      <th>Date</th>\n",
       "      <th>Status</th>\n",
       "      <th>Fulfilment</th>\n",
       "      <th>Sales Channel</th>\n",
       "      <th>ship-service-level</th>\n",
       "      <th>Style</th>\n",
       "      <th>SKU</th>\n",
       "      <th>Category</th>\n",
       "      <th>...</th>\n",
       "      <th>Qty</th>\n",
       "      <th>currency</th>\n",
       "      <th>Amount</th>\n",
       "      <th>ship-city</th>\n",
       "      <th>ship-state</th>\n",
       "      <th>ship-postal-code</th>\n",
       "      <th>ship-country</th>\n",
       "      <th>promotion-ids</th>\n",
       "      <th>B2B</th>\n",
       "      <th>fulfilled-by</th>\n",
       "    </tr>\n",
       "  </thead>\n",
       "  <tbody>\n",
       "    <tr>\n",
       "      <th>0</th>\n",
       "      <td>0</td>\n",
       "      <td>405-8078784-5731545</td>\n",
       "      <td>04-30-22</td>\n",
       "      <td>Cancelled</td>\n",
       "      <td>Merchant</td>\n",
       "      <td>Amazon.in</td>\n",
       "      <td>Standard</td>\n",
       "      <td>SET389</td>\n",
       "      <td>SET389-KR-NP-S</td>\n",
       "      <td>Set</td>\n",
       "      <td>...</td>\n",
       "      <td>0</td>\n",
       "      <td>INR</td>\n",
       "      <td>647.62</td>\n",
       "      <td>MUMBAI</td>\n",
       "      <td>MAHARASHTRA</td>\n",
       "      <td>400081.0</td>\n",
       "      <td>IN</td>\n",
       "      <td>NaN</td>\n",
       "      <td>False</td>\n",
       "      <td>Easy Ship</td>\n",
       "    </tr>\n",
       "    <tr>\n",
       "      <th>1</th>\n",
       "      <td>1</td>\n",
       "      <td>171-9198151-1101146</td>\n",
       "      <td>04-30-22</td>\n",
       "      <td>Shipped - Delivered to Buyer</td>\n",
       "      <td>Merchant</td>\n",
       "      <td>Amazon.in</td>\n",
       "      <td>Standard</td>\n",
       "      <td>JNE3781</td>\n",
       "      <td>JNE3781-KR-XXXL</td>\n",
       "      <td>kurta</td>\n",
       "      <td>...</td>\n",
       "      <td>1</td>\n",
       "      <td>INR</td>\n",
       "      <td>406.00</td>\n",
       "      <td>BENGALURU</td>\n",
       "      <td>KARNATAKA</td>\n",
       "      <td>560085.0</td>\n",
       "      <td>IN</td>\n",
       "      <td>Amazon PLCC Free-Financing Universal Merchant ...</td>\n",
       "      <td>False</td>\n",
       "      <td>Easy Ship</td>\n",
       "    </tr>\n",
       "    <tr>\n",
       "      <th>2</th>\n",
       "      <td>2</td>\n",
       "      <td>404-0687676-7273146</td>\n",
       "      <td>04-30-22</td>\n",
       "      <td>Shipped</td>\n",
       "      <td>Amazon</td>\n",
       "      <td>Amazon.in</td>\n",
       "      <td>Expedited</td>\n",
       "      <td>JNE3371</td>\n",
       "      <td>JNE3371-KR-XL</td>\n",
       "      <td>kurta</td>\n",
       "      <td>...</td>\n",
       "      <td>1</td>\n",
       "      <td>INR</td>\n",
       "      <td>329.00</td>\n",
       "      <td>NAVI MUMBAI</td>\n",
       "      <td>MAHARASHTRA</td>\n",
       "      <td>410210.0</td>\n",
       "      <td>IN</td>\n",
       "      <td>IN Core Free Shipping 2015/04/08 23-48-5-108</td>\n",
       "      <td>True</td>\n",
       "      <td>NaN</td>\n",
       "    </tr>\n",
       "    <tr>\n",
       "      <th>3</th>\n",
       "      <td>3</td>\n",
       "      <td>403-9615377-8133951</td>\n",
       "      <td>04-30-22</td>\n",
       "      <td>Cancelled</td>\n",
       "      <td>Merchant</td>\n",
       "      <td>Amazon.in</td>\n",
       "      <td>Standard</td>\n",
       "      <td>J0341</td>\n",
       "      <td>J0341-DR-L</td>\n",
       "      <td>Western Dress</td>\n",
       "      <td>...</td>\n",
       "      <td>0</td>\n",
       "      <td>INR</td>\n",
       "      <td>753.33</td>\n",
       "      <td>PUDUCHERRY</td>\n",
       "      <td>PUDUCHERRY</td>\n",
       "      <td>605008.0</td>\n",
       "      <td>IN</td>\n",
       "      <td>NaN</td>\n",
       "      <td>False</td>\n",
       "      <td>Easy Ship</td>\n",
       "    </tr>\n",
       "    <tr>\n",
       "      <th>4</th>\n",
       "      <td>4</td>\n",
       "      <td>407-1069790-7240320</td>\n",
       "      <td>04-30-22</td>\n",
       "      <td>Shipped</td>\n",
       "      <td>Amazon</td>\n",
       "      <td>Amazon.in</td>\n",
       "      <td>Expedited</td>\n",
       "      <td>JNE3671</td>\n",
       "      <td>JNE3671-TU-XXXL</td>\n",
       "      <td>Top</td>\n",
       "      <td>...</td>\n",
       "      <td>1</td>\n",
       "      <td>INR</td>\n",
       "      <td>574.00</td>\n",
       "      <td>CHENNAI</td>\n",
       "      <td>TAMIL NADU</td>\n",
       "      <td>600073.0</td>\n",
       "      <td>IN</td>\n",
       "      <td>NaN</td>\n",
       "      <td>False</td>\n",
       "      <td>NaN</td>\n",
       "    </tr>\n",
       "  </tbody>\n",
       "</table>\n",
       "<p>5 rows × 23 columns</p>\n",
       "</div>"
      ],
      "text/plain": [
       "   index             Order ID      Date                        Status  \\\n",
       "0      0  405-8078784-5731545  04-30-22                     Cancelled   \n",
       "1      1  171-9198151-1101146  04-30-22  Shipped - Delivered to Buyer   \n",
       "2      2  404-0687676-7273146  04-30-22                       Shipped   \n",
       "3      3  403-9615377-8133951  04-30-22                     Cancelled   \n",
       "4      4  407-1069790-7240320  04-30-22                       Shipped   \n",
       "\n",
       "  Fulfilment Sales Channel  ship-service-level    Style              SKU  \\\n",
       "0   Merchant      Amazon.in           Standard   SET389   SET389-KR-NP-S   \n",
       "1   Merchant      Amazon.in           Standard  JNE3781  JNE3781-KR-XXXL   \n",
       "2     Amazon      Amazon.in          Expedited  JNE3371    JNE3371-KR-XL   \n",
       "3   Merchant      Amazon.in           Standard    J0341       J0341-DR-L   \n",
       "4     Amazon      Amazon.in          Expedited  JNE3671  JNE3671-TU-XXXL   \n",
       "\n",
       "        Category  ... Qty currency  Amount    ship-city   ship-state  \\\n",
       "0            Set  ...   0      INR  647.62       MUMBAI  MAHARASHTRA   \n",
       "1          kurta  ...   1      INR  406.00    BENGALURU    KARNATAKA   \n",
       "2          kurta  ...   1      INR  329.00  NAVI MUMBAI  MAHARASHTRA   \n",
       "3  Western Dress  ...   0      INR  753.33   PUDUCHERRY   PUDUCHERRY   \n",
       "4            Top  ...   1      INR  574.00      CHENNAI   TAMIL NADU   \n",
       "\n",
       "   ship-postal-code ship-country  \\\n",
       "0          400081.0           IN   \n",
       "1          560085.0           IN   \n",
       "2          410210.0           IN   \n",
       "3          605008.0           IN   \n",
       "4          600073.0           IN   \n",
       "\n",
       "                                       promotion-ids    B2B fulfilled-by  \n",
       "0                                                NaN  False    Easy Ship  \n",
       "1  Amazon PLCC Free-Financing Universal Merchant ...  False    Easy Ship  \n",
       "2       IN Core Free Shipping 2015/04/08 23-48-5-108   True          NaN  \n",
       "3                                                NaN  False    Easy Ship  \n",
       "4                                                NaN  False          NaN  \n",
       "\n",
       "[5 rows x 23 columns]"
      ]
     },
     "execution_count": 3,
     "metadata": {},
     "output_type": "execute_result"
    }
   ],
   "source": [
    "# viewing top rows\n",
    "df.head()"
   ]
  },
  {
   "cell_type": "code",
   "execution_count": 4,
   "id": "f2b248ff",
   "metadata": {},
   "outputs": [
    {
     "name": "stdout",
     "output_type": "stream",
     "text": [
      "<class 'pandas.core.frame.DataFrame'>\n",
      "RangeIndex: 128975 entries, 0 to 128974\n",
      "Data columns (total 23 columns):\n",
      " #   Column              Non-Null Count   Dtype  \n",
      "---  ------              --------------   -----  \n",
      " 0   index               128975 non-null  int64  \n",
      " 1   Order ID            128975 non-null  object \n",
      " 2   Date                128975 non-null  object \n",
      " 3   Status              128975 non-null  object \n",
      " 4   Fulfilment          128975 non-null  object \n",
      " 5   Sales Channel       128975 non-null  object \n",
      " 6   ship-service-level  128975 non-null  object \n",
      " 7   Style               128975 non-null  object \n",
      " 8   SKU                 128975 non-null  object \n",
      " 9   Category            128975 non-null  object \n",
      " 10  Size                128975 non-null  object \n",
      " 11  ASIN                128975 non-null  object \n",
      " 12  Courier Status      122103 non-null  object \n",
      " 13  Qty                 128975 non-null  int64  \n",
      " 14  currency            121180 non-null  object \n",
      " 15  Amount              121180 non-null  float64\n",
      " 16  ship-city           128942 non-null  object \n",
      " 17  ship-state          128942 non-null  object \n",
      " 18  ship-postal-code    128942 non-null  float64\n",
      " 19  ship-country        128942 non-null  object \n",
      " 20  promotion-ids       79822 non-null   object \n",
      " 21  B2B                 128975 non-null  bool   \n",
      " 22  fulfilled-by        39277 non-null   object \n",
      "dtypes: bool(1), float64(2), int64(2), object(18)\n",
      "memory usage: 21.8+ MB\n"
     ]
    }
   ],
   "source": [
    "#info of dataset\n",
    "df.info()"
   ]
  },
  {
   "cell_type": "markdown",
   "id": "4820669d",
   "metadata": {},
   "source": [
    "## About the dataset\n",
    "\n",
    "\n",
    "| Attribute          | Description                                             |\n",
    "|--------------------|---------------------------------------------------------|\n",
    "| Order ID           | Unique identifier for each order                         |\n",
    "| Date               | Date of the order                                       |\n",
    "| Status             | Current status of the order (e.g., Shipped, Cancelled, Delivered to Buyer, etc.) |\n",
    "| Fulfilment         | Who fulfilled the order (e.g., Amazon, Merchant)        |\n",
    "| Sales Channel      | Channel through which the order was made (e.g., Amazon.in) |\n",
    "| ship-service-level | Shipping service level (e.g., Standard, Expedited)       |\n",
    "| Style              | Style of the product                                    |\n",
    "| SKU                | Stock Keeping Unit, unique identifier for each product   |\n",
    "| Category           | Category of the product                                 |\n",
    "| Quantity           | Quantity of products ordered                            |\n",
    "| Currency           | Currency in which the transaction was made              |\n",
    "| Amount             | Amount of the transaction                                |\n",
    "| ship-city          | City where the product was shipped                      |\n",
    "| ship-state         | State where the product was shipped                     |\n",
    "| ship-postal-code   | Postal code where the product was shipped                |\n",
    "| ship-country       | Country where the product was shipped                    |\n",
    "| Promotion IDs      | Promotion IDs if any                                    |\n",
    "| B2B                | A boolean indicating whether the order is Business-to-Business (B2B) |\n",
    "| fulfilled-by       | Who fulfilled the shipping (e.g., Easy Ship)             |\n",
    "\n"
   ]
  },
  {
   "cell_type": "markdown",
   "id": "04a65083",
   "metadata": {},
   "source": [
    "# Exploratory data analysis\n",
    "\n",
    "we will perform EDA and understand about the data in each column."
   ]
  },
  {
   "cell_type": "markdown",
   "id": "8b912bdf",
   "metadata": {},
   "source": [
    "## Exploring date column"
   ]
  },
  {
   "cell_type": "code",
   "execution_count": 5,
   "id": "a63897ed",
   "metadata": {},
   "outputs": [
    {
     "data": {
      "text/plain": [
       "count         128975\n",
       "unique            91\n",
       "top       05-03-2022\n",
       "freq            2085\n",
       "Name: Date, dtype: object"
      ]
     },
     "execution_count": 5,
     "metadata": {},
     "output_type": "execute_result"
    }
   ],
   "source": [
    "#exploring date column\n",
    "df['Date'].describe()"
   ]
  },
  {
   "cell_type": "code",
   "execution_count": 6,
   "id": "0e8d2bbe",
   "metadata": {},
   "outputs": [],
   "source": [
    "# converting data type\n",
    "df['Date'] = pd.to_datetime(df['Date'])\n",
    "# Now, the 'Date' column will be of datetime data type"
   ]
  },
  {
   "cell_type": "code",
   "execution_count": 7,
   "id": "41f98372",
   "metadata": {},
   "outputs": [
    {
     "data": {
      "text/plain": [
       "count                  128975\n",
       "unique                     91\n",
       "top       2022-05-03 00:00:00\n",
       "freq                     2085\n",
       "first     2022-03-31 00:00:00\n",
       "last      2022-06-29 00:00:00\n",
       "Name: Date, dtype: object"
      ]
     },
     "execution_count": 7,
     "metadata": {},
     "output_type": "execute_result"
    }
   ],
   "source": [
    "#exploring date column\n",
    "df['Date'].describe()"
   ]
  },
  {
   "cell_type": "code",
   "execution_count": 8,
   "id": "06f85ea5",
   "metadata": {},
   "outputs": [
    {
     "data": {
      "text/plain": [
       "91"
      ]
     },
     "execution_count": 8,
     "metadata": {},
     "output_type": "execute_result"
    }
   ],
   "source": [
    "#unique dates \n",
    "len(df['Date'].unique())"
   ]
  },
  {
   "cell_type": "markdown",
   "id": "7f257b85",
   "metadata": {},
   "source": [
    "### <span style='color:Blue'> *Insights:* </span>\n",
    " \n",
    "The dataset contains 3 months(91 dyas) data, from 2022-03-31 to 2022-06-29"
   ]
  },
  {
   "cell_type": "markdown",
   "id": "fd802c91",
   "metadata": {},
   "source": [
    "## Exploring status column"
   ]
  },
  {
   "cell_type": "code",
   "execution_count": 9,
   "id": "cca28505",
   "metadata": {},
   "outputs": [
    {
     "data": {
      "text/plain": [
       "count      128975\n",
       "unique         13\n",
       "top       Shipped\n",
       "freq        77804\n",
       "Name: Status, dtype: object"
      ]
     },
     "execution_count": 9,
     "metadata": {},
     "output_type": "execute_result"
    }
   ],
   "source": [
    "#exploring status column\n",
    "df['Status'].describe()"
   ]
  },
  {
   "cell_type": "code",
   "execution_count": 10,
   "id": "f5c6a986",
   "metadata": {},
   "outputs": [
    {
     "data": {
      "text/plain": [
       "Shipped                          77804\n",
       "Shipped - Delivered to Buyer     28769\n",
       "Cancelled                        18332\n",
       "Shipped - Returned to Seller      1953\n",
       "Shipped - Picked Up                973\n",
       "Pending                            658\n",
       "Pending - Waiting for Pick Up      281\n",
       "Shipped - Returning to Seller      145\n",
       "Shipped - Out for Delivery          35\n",
       "Shipped - Rejected by Buyer         11\n",
       "Shipping                             8\n",
       "Shipped - Lost in Transit            5\n",
       "Shipped - Damaged                    1\n",
       "Name: Status, dtype: int64"
      ]
     },
     "execution_count": 10,
     "metadata": {},
     "output_type": "execute_result"
    }
   ],
   "source": [
    "#exploring status of deliveries\n",
    "df['Status'].value_counts()"
   ]
  },
  {
   "cell_type": "markdown",
   "id": "a5cd6150",
   "metadata": {},
   "source": [
    "\n",
    " ### <span style='color:Blue'> *Insights:* </span>\n",
    "\n",
    "1. **Most Orders Are Shipped**: The majority of orders fall into the \"Shipped\" category, with 77,804 orders falling under this status.\n",
    "\n",
    "2. **Delivered to Buyer**: A significant number of orders (28,769) have been marked as \"Shipped - Delivered to Buyer,\" indicating successful deliveries.\n",
    "\n",
    "3. **Cancelled Orders**: There are 18,332 orders that have been canceled. This might indicate issues with orders that couldn't be fulfilled for various reasons.\n",
    "\n",
    "4. **Returned Orders**: There are 1,953 orders that have been marked as \"Shipped - Returned to Seller,\" which suggests that customers returned these products.\n",
    "\n",
    "5. **Pending Orders**: There are 658 orders in the \"Pending\" status, indicating that they are awaiting further action or processing.\n",
    "\n",
    "6. **Waiting for Pick Up**: 281 orders are \"Pending - Waiting for Pick Up,\" suggesting that customers need to pick up their orders.\n",
    "\n",
    "7. **Out for Delivery**: There are 35 orders in the \"Shipped - Out for Delivery\" status, indicating that they are currently in transit to the customer.\n",
    "\n",
    "8. **Rejected by Buyer**: 11 orders have been \"Shipped - Rejected by Buyer,\" indicating that the customer refused the delivery.\n",
    "\n",
    "9. **Shipping**: There are 8 orders marked as \"Shipping,\" which might need further clarification, as it's a less common status.\n",
    "\n",
    "10. **Lost in Transit and Damaged**: There are a few orders with issues, such as being \"Shipped - Lost in Transit\" (5 orders) and \"Shipped - Damaged\" (1 order). These are cases where the orders may require special attention or investigation.\n"
   ]
  },
  {
   "cell_type": "markdown",
   "id": "70682764",
   "metadata": {},
   "source": [
    "## Exploring Fullfillment column"
   ]
  },
  {
   "cell_type": "code",
   "execution_count": 11,
   "id": "ce846a72",
   "metadata": {},
   "outputs": [
    {
     "data": {
      "text/plain": [
       "count     128975\n",
       "unique         2\n",
       "top       Amazon\n",
       "freq       89698\n",
       "Name: Fulfilment, dtype: object"
      ]
     },
     "execution_count": 11,
     "metadata": {},
     "output_type": "execute_result"
    }
   ],
   "source": [
    "df['Fulfilment'].describe()"
   ]
  },
  {
   "cell_type": "code",
   "execution_count": 12,
   "id": "a754c867",
   "metadata": {},
   "outputs": [
    {
     "data": {
      "text/plain": [
       "Amazon      89698\n",
       "Merchant    39277\n",
       "Name: Fulfilment, dtype: int64"
      ]
     },
     "execution_count": 12,
     "metadata": {},
     "output_type": "execute_result"
    }
   ],
   "source": [
    "#exploring value counts\n",
    "df['Fulfilment'].value_counts()"
   ]
  },
  {
   "cell_type": "markdown",
   "id": "1412e2c6",
   "metadata": {},
   "source": [
    "### <span style='color:Blue'> *Insights:* </span>\n",
    "\n",
    "- Out of total orders fullfilled , 70 % orders are fulfilled by Amazon and 30% are fulfilled by merchent."
   ]
  },
  {
   "cell_type": "markdown",
   "id": "120dac4f",
   "metadata": {},
   "source": [
    "## Exploring Sales Channel column"
   ]
  },
  {
   "cell_type": "code",
   "execution_count": 13,
   "id": "8bd7a679",
   "metadata": {},
   "outputs": [
    {
     "data": {
      "text/plain": [
       "count        128975\n",
       "unique            2\n",
       "top       Amazon.in\n",
       "freq         128851\n",
       "Name: Sales Channel , dtype: object"
      ]
     },
     "execution_count": 13,
     "metadata": {},
     "output_type": "execute_result"
    }
   ],
   "source": [
    "df['Sales Channel '].describe()"
   ]
  },
  {
   "cell_type": "code",
   "execution_count": 14,
   "id": "cd15b5ec",
   "metadata": {},
   "outputs": [
    {
     "data": {
      "text/plain": [
       "Amazon.in     128851\n",
       "Non-Amazon       124\n",
       "Name: Sales Channel , dtype: int64"
      ]
     },
     "execution_count": 14,
     "metadata": {},
     "output_type": "execute_result"
    }
   ],
   "source": [
    "df['Sales Channel '].value_counts()"
   ]
  },
  {
   "cell_type": "code",
   "execution_count": 15,
   "id": "89ad980c",
   "metadata": {},
   "outputs": [
    {
     "name": "stdout",
     "output_type": "stream",
     "text": [
      "Amazon.in     99.903857\n",
      "Non-Amazon     0.096143\n",
      "Name: Sales Channel , dtype: float64\n"
     ]
    }
   ],
   "source": [
    "value_counts = df['Sales Channel '].value_counts()\n",
    "percentages = (value_counts / len(df)) * 100\n",
    "\n",
    "# Now, 'percentages' contains the percentages of each value count\n",
    "print(percentages)"
   ]
  },
  {
   "cell_type": "markdown",
   "id": "2130323f",
   "metadata": {},
   "source": [
    "### <span style='color:Blue'> *Insights:* </span>\n",
    "\n",
    "- During this period of 91 days, 99% of sales are carried out through Amazon sales channel , 0.09 sales are done through non amazon sales channel."
   ]
  },
  {
   "cell_type": "markdown",
   "id": "a7464b80",
   "metadata": {},
   "source": [
    "## Exploring ship-service-level column"
   ]
  },
  {
   "cell_type": "code",
   "execution_count": 16,
   "id": "a4d10664",
   "metadata": {},
   "outputs": [
    {
     "data": {
      "text/plain": [
       "count        128975\n",
       "unique            2\n",
       "top       Expedited\n",
       "freq          88615\n",
       "Name: ship-service-level, dtype: object"
      ]
     },
     "execution_count": 16,
     "metadata": {},
     "output_type": "execute_result"
    }
   ],
   "source": [
    "df['ship-service-level'].describe()"
   ]
  },
  {
   "cell_type": "code",
   "execution_count": 17,
   "id": "bf84c54b",
   "metadata": {},
   "outputs": [
    {
     "data": {
      "text/plain": [
       "Expedited    88615\n",
       "Standard     40360\n",
       "Name: ship-service-level, dtype: int64"
      ]
     },
     "execution_count": 17,
     "metadata": {},
     "output_type": "execute_result"
    }
   ],
   "source": [
    "df['ship-service-level'].value_counts()"
   ]
  },
  {
   "cell_type": "code",
   "execution_count": 18,
   "id": "1e282c47",
   "metadata": {},
   "outputs": [
    {
     "name": "stdout",
     "output_type": "stream",
     "text": [
      "Expedited    68.707114\n",
      "Standard     31.292886\n",
      "Name: ship-service-level, dtype: float64\n"
     ]
    }
   ],
   "source": [
    "value_counts = df['ship-service-level'].value_counts()\n",
    "percentages = (value_counts / len(df)) * 100\n",
    "\n",
    "# Now, 'percentages' contains the percentages of each value count\n",
    "print(percentages)"
   ]
  },
  {
   "cell_type": "markdown",
   "id": "9d4571e1",
   "metadata": {},
   "source": [
    "### <span style='color:Blue'> *Insights:* </span>\n",
    "- 68% are Expedited and 31% are Standard in ship service level.\n",
    "\n",
    "Standard: This typically represents the standard or regular shipping option, which may be more economical but might have a longer delivery time.\n",
    "\n",
    "Expedited: Expedited shipping is a faster shipping option, often at a higher cost, designed to deliver the products more quickly."
   ]
  },
  {
   "cell_type": "markdown",
   "id": "3739df2f",
   "metadata": {},
   "source": [
    "# Exploring Style column"
   ]
  },
  {
   "cell_type": "code",
   "execution_count": 19,
   "id": "0de0347e",
   "metadata": {},
   "outputs": [
    {
     "data": {
      "text/plain": [
       "count      128975\n",
       "unique       1377\n",
       "top       JNE3797\n",
       "freq         4224\n",
       "Name: Style, dtype: object"
      ]
     },
     "execution_count": 19,
     "metadata": {},
     "output_type": "execute_result"
    }
   ],
   "source": [
    "#Style of the product\n",
    "df['Style'].describe()"
   ]
  },
  {
   "cell_type": "code",
   "execution_count": 20,
   "id": "673271a4",
   "metadata": {},
   "outputs": [
    {
     "data": {
      "text/plain": [
       "JNE3797    4224\n",
       "JNE3405    2263\n",
       "J0230      1868\n",
       "SET268     1860\n",
       "J0341      1630\n",
       "           ... \n",
       "BTM004        1\n",
       "SET036        1\n",
       "JNE3157       1\n",
       "JNE3355       1\n",
       "SET045        1\n",
       "Name: Style, Length: 1377, dtype: int64"
      ]
     },
     "execution_count": 20,
     "metadata": {},
     "output_type": "execute_result"
    }
   ],
   "source": [
    "df['Style'].value_counts()"
   ]
  },
  {
   "cell_type": "code",
   "execution_count": 21,
   "id": "87c113de",
   "metadata": {},
   "outputs": [
    {
     "name": "stdout",
     "output_type": "stream",
     "text": [
      "JNE3797    3.275053\n",
      "JNE3405    1.754604\n",
      "J0230      1.448343\n",
      "SET268     1.442140\n",
      "J0341      1.263811\n",
      "             ...   \n",
      "BTM004     0.000775\n",
      "SET036     0.000775\n",
      "JNE3157    0.000775\n",
      "JNE3355    0.000775\n",
      "SET045     0.000775\n",
      "Name: Style, Length: 1377, dtype: float64\n"
     ]
    }
   ],
   "source": [
    "value_counts = df['Style'].value_counts()\n",
    "percentages = (value_counts / len(df)) * 100\n",
    "\n",
    "# Now, 'percentages' contains the percentages of each value count\n",
    "print(percentages)"
   ]
  },
  {
   "cell_type": "code",
   "execution_count": 25,
   "id": "e8c5ba3e",
   "metadata": {},
   "outputs": [
    {
     "name": "stdout",
     "output_type": "stream",
     "text": [
      "JNE3797    4224\n",
      "JNE3405    2263\n",
      "J0230      1868\n",
      "SET268     1860\n",
      "J0341      1630\n",
      "J0003      1627\n",
      "SET324     1284\n",
      "SET345     1250\n",
      "JNE3373    1173\n",
      "JNE3440    1054\n",
      "Name: Style, dtype: int64\n"
     ]
    }
   ],
   "source": [
    "top_10_styles = df['Style'].value_counts().head(10)\n",
    "\n",
    "# Now, 'top_10_styles' contains the top 10 styles and their frequency counts\n",
    "print(top_10_styles)"
   ]
  },
  {
   "cell_type": "markdown",
   "id": "2b8832f5",
   "metadata": {},
   "source": [
    "### <span style='color:Blue'> *Insights:* </span>\n",
    "\n",
    "Count: There are a total of 128,975 records in the 'Style' column. This represents the number of products or orders for which the style information is available.\n",
    "\n",
    "Unique Styles: Among these records, there are 1,377 unique styles. This indicates that there are 1,377 different product styles or variations represented in the dataset.\n",
    "\n",
    "Top Style: The most frequently occurring style in the dataset is 'JNE3797,' which appears 4,224 times. This suggests that 'JNE3797' is a popular or commonly used style for the products in your dataset."
   ]
  },
  {
   "cell_type": "markdown",
   "id": "71403aa5",
   "metadata": {},
   "source": [
    "# Exploring SKU column"
   ]
  },
  {
   "cell_type": "code",
   "execution_count": 22,
   "id": "de13b0fb",
   "metadata": {},
   "outputs": [
    {
     "data": {
      "text/plain": [
       "count           128975\n",
       "unique            7195\n",
       "top       JNE3797-KR-L\n",
       "freq               773\n",
       "Name: SKU, dtype: object"
      ]
     },
     "execution_count": 22,
     "metadata": {},
     "output_type": "execute_result"
    }
   ],
   "source": [
    "#SKU of the product\n",
    "df['SKU'].describe()"
   ]
  },
  {
   "cell_type": "code",
   "execution_count": 24,
   "id": "db8990b8",
   "metadata": {},
   "outputs": [
    {
     "data": {
      "text/plain": [
       "JNE3797-KR-L       773\n",
       "JNE3797-KR-M       657\n",
       "JNE3797-KR-S       587\n",
       "JNE3405-KR-L       535\n",
       "J0230-SKD-M        507\n",
       "                  ... \n",
       "BTM004-XXXL          1\n",
       "BL090-XS             1\n",
       "BTM045-PP-M          1\n",
       "SET034-KR-NP-XS      1\n",
       "SET045-KR-NP-M       1\n",
       "Name: SKU, Length: 7195, dtype: int64"
      ]
     },
     "execution_count": 24,
     "metadata": {},
     "output_type": "execute_result"
    }
   ],
   "source": [
    "df['SKU'].value_counts()"
   ]
  },
  {
   "cell_type": "code",
   "execution_count": 26,
   "id": "f83cbce2",
   "metadata": {},
   "outputs": [
    {
     "name": "stdout",
     "output_type": "stream",
     "text": [
      "JNE3797-KR-L      773\n",
      "JNE3797-KR-M      657\n",
      "JNE3797-KR-S      587\n",
      "JNE3405-KR-L      535\n",
      "J0230-SKD-M       507\n",
      "JNE3797-KR-XL     474\n",
      "J0230-SKD-S       452\n",
      "JNE3405-KR-S      443\n",
      "JNE3797-KR-XS     431\n",
      "JNE3797-KR-XXL    395\n",
      "Name: SKU, dtype: int64\n"
     ]
    }
   ],
   "source": [
    "top_10_SKUs = df['SKU'].value_counts().head(10)\n",
    "\n",
    "print(top_10_SKUs)"
   ]
  },
  {
   "cell_type": "markdown",
   "id": "dc832ee9",
   "metadata": {},
   "source": [
    "### <span style='color:Blue'> *Insights:* </span>\n",
    "\n",
    "SKU stands for \"Stock Keeping Unit.\" It is a unique alphanumeric code or identifier used in inventory management and retail to track individual items or products within a store or business. \n",
    "\n",
    "\n",
    "1. **Count**: There are a total of 128,975 records in the 'SKU' column. This represents the number of products or orders for which SKU information is available.\n",
    "\n",
    "2. **Unique SKUs**: Among these records, there are 7,195 unique SKUs. This indicates that there are 7,195 different Stock Keeping Units (SKUs) represented in the dataset.\n",
    "\n",
    "3. **Top SKU**: The most frequently occurring SKU in the dataset is 'JNE3797-KR-L,' which appears 773 times. This suggests that 'JNE3797-KR-L' is a popular or commonly used SKU for the products in your dataset.\n",
    "\n",
    "Frequency information is valuable for inventory management, tracking product popularity, and identifying the most commonly ordered products. In this case, knowing the top SKU and its frequency can help you understand which specific product variant is in high demand or frequently ordered by customers. "
   ]
  },
  {
   "cell_type": "markdown",
   "id": "6468e01f",
   "metadata": {},
   "source": [
    "# Exploring Category column"
   ]
  },
  {
   "cell_type": "code",
   "execution_count": 28,
   "id": "0e73398c",
   "metadata": {},
   "outputs": [
    {
     "data": {
      "text/plain": [
       "count     128975\n",
       "unique         9\n",
       "top          Set\n",
       "freq       50284\n",
       "Name: Category, dtype: object"
      ]
     },
     "execution_count": 28,
     "metadata": {},
     "output_type": "execute_result"
    }
   ],
   "source": [
    "#Categories in the product\n",
    "df['Category'].describe()"
   ]
  },
  {
   "cell_type": "code",
   "execution_count": 29,
   "id": "550c77ec",
   "metadata": {},
   "outputs": [
    {
     "data": {
      "text/plain": [
       "Set              50284\n",
       "kurta            49877\n",
       "Western Dress    15500\n",
       "Top              10622\n",
       "Ethnic Dress      1159\n",
       "Blouse             926\n",
       "Bottom             440\n",
       "Saree              164\n",
       "Dupatta              3\n",
       "Name: Category, dtype: int64"
      ]
     },
     "execution_count": 29,
     "metadata": {},
     "output_type": "execute_result"
    }
   ],
   "source": [
    "#value counts\n",
    "df['Category'].value_counts()"
   ]
  },
  {
   "cell_type": "code",
   "execution_count": 87,
   "id": "56646c3a",
   "metadata": {},
   "outputs": [
    {
     "data": {
      "image/png": "[encoded data removed]",
      "text/plain": [
       "<Figure size 1152x360 with 1 Axes>"
      ]
     },
     "metadata": {
      "needs_background": "light"
     },
     "output_type": "display_data"
    }
   ],
   "source": [
    "category_counts = df['Category'].value_counts()\n",
    "\n",
    "# Set a custom color palette \n",
    "custom_palette = sns.color_palette(\"Set1\") \n",
    "\n",
    "# Create a horizontal bar plot\n",
    "plt.figure(figsize=(16, 5))  # Adjust the figure size if needed\n",
    "sns.barplot(x=category_counts.values, y=category_counts.index, palette=custom_palette)\n",
    "\n",
    "# Customize the plot\n",
    "plt.title('Category Distribution', fontsize=16)  \n",
    "plt.xlabel('Count', fontsize=12)  \n",
    "plt.ylabel('Category', fontsize=12)  \n",
    "plt.xticks(fontsize=12)  \n",
    "plt.yticks(fontsize=12) \n",
    "\n",
    "# Display the plot\n",
    "plt.show()\n"
   ]
  },
  {
   "cell_type": "code",
   "execution_count": 40,
   "id": "0c3aa2fa",
   "metadata": {},
   "outputs": [
    {
     "name": "stdout",
     "output_type": "stream",
     "text": [
      "Set              38.987 %\n",
      "kurta            38.672 %\n",
      "Western Dress    12.018 %\n",
      "Top               8.236 %\n",
      "Ethnic Dress      0.899 %\n",
      "Blouse            0.718 %\n",
      "Bottom            0.341 %\n",
      "Saree             0.127 %\n",
      "Dupatta           0.002 %\n",
      "Name: Category, dtype: object\n"
     ]
    }
   ],
   "source": [
    "value_counts = df['Category'].value_counts()\n",
    "percentages = round((value_counts / len(df)) * 100, 3)\n",
    "\n",
    "# Now, 'percentages' contains the percentages of each value count\n",
    "print(percentages.astype(str) + ' %')"
   ]
  },
  {
   "cell_type": "markdown",
   "id": "4ac5f1b6",
   "metadata": {},
   "source": [
    "### <span style='color:Blue'> *Insights:* </span>\n",
    "\n",
    "\n",
    "1. **Count**: There are a total of 128,975 records in the 'Category' column, representing the number of products or orders for which the category information is available.\n",
    "\n",
    "2. **Unique Categories**: Among these records, there are 9 unique categories. This indicates that there are 9 different product categories represented in the dataset.\n",
    "\n",
    "3. **Top Category**: The most frequently occurring category in the dataset is 'Set,' which appears 50,284 times. This suggests that 'Set' is the dominant or most popular category among the products in your dataset.\n",
    "\n",
    "4. **Category Distribution**: The dataset provides a distribution of products across different categories, with 'Kurta' being the second most common category (49,877 records). Other categories like 'Western Dress,' 'Top,' 'Ethnic Dress,' 'Blouse,' 'Bottom,' 'Saree,' and 'Dupatta' have varying frequencies.\n",
    "\n",
    "5. **Niche Categories**: Some categories like 'Saree,' 'Dupatta,' and 'Bottom' have relatively low frequencies, indicating that they may represent niche or less common product types.\n"
   ]
  },
  {
   "cell_type": "markdown",
   "id": "aeb2cdaa",
   "metadata": {},
   "source": [
    "# Exploring Size column"
   ]
  },
  {
   "cell_type": "code",
   "execution_count": 41,
   "id": "40ca736a",
   "metadata": {},
   "outputs": [
    {
     "data": {
      "text/plain": [
       "count     128975\n",
       "unique        11\n",
       "top            M\n",
       "freq       22711\n",
       "Name: Size, dtype: object"
      ]
     },
     "execution_count": 41,
     "metadata": {},
     "output_type": "execute_result"
    }
   ],
   "source": [
    "#sizes in the product\n",
    "df['Size'].describe()"
   ]
  },
  {
   "cell_type": "code",
   "execution_count": 42,
   "id": "3acc46de",
   "metadata": {},
   "outputs": [
    {
     "data": {
      "text/plain": [
       "M       22711\n",
       "L       22132\n",
       "XL      20876\n",
       "XXL     18096\n",
       "S       17090\n",
       "3XL     14816\n",
       "XS      11161\n",
       "6XL       738\n",
       "5XL       550\n",
       "4XL       427\n",
       "Free      378\n",
       "Name: Size, dtype: int64"
      ]
     },
     "execution_count": 42,
     "metadata": {},
     "output_type": "execute_result"
    }
   ],
   "source": [
    "#sizess in the product\n",
    "df['Size'].value_counts()"
   ]
  },
  {
   "cell_type": "code",
   "execution_count": 86,
   "id": "f36690e6",
   "metadata": {},
   "outputs": [
    {
     "data": {
      "image/png": "[encoded data removed]",
      "text/plain": [
       "<Figure size 1152x360 with 1 Axes>"
      ]
     },
     "metadata": {
      "needs_background": "light"
     },
     "output_type": "display_data"
    }
   ],
   "source": [
    "category_counts = df['Size'].value_counts()\n",
    "\n",
    "# Set a custom color palette \n",
    "custom_palette = sns.color_palette(\"Set1\") \n",
    "\n",
    "# Create a horizontal bar plot\n",
    "plt.figure(figsize=(16, 5))  # Adjust the figure size if needed\n",
    "sns.barplot(x=category_counts.values, y=category_counts.index, palette=custom_palette)\n",
    "\n",
    "# Customize the plot\n",
    "plt.title('Size Distribution', fontsize=16)  \n",
    "plt.xlabel('Count', fontsize=12)  \n",
    "plt.ylabel('Size', fontsize=12)  \n",
    "plt.xticks(fontsize=12)  \n",
    "plt.yticks(fontsize=12) \n",
    "\n",
    "# Display the plot\n",
    "plt.show()\n"
   ]
  },
  {
   "cell_type": "code",
   "execution_count": 44,
   "id": "3175f919",
   "metadata": {},
   "outputs": [
    {
     "name": "stdout",
     "output_type": "stream",
     "text": [
      "M       17.61 %\n",
      "L       17.16 %\n",
      "XL      16.19 %\n",
      "XXL     14.03 %\n",
      "S       13.25 %\n",
      "3XL     11.49 %\n",
      "XS       8.65 %\n",
      "6XL      0.57 %\n",
      "5XL      0.43 %\n",
      "4XL      0.33 %\n",
      "Free     0.29 %\n",
      "Name: Size, dtype: object\n"
     ]
    }
   ],
   "source": [
    "value_counts = df['Size'].value_counts()\n",
    "percentages = round((value_counts / len(df)) * 100, 2)\n",
    "\n",
    "# Now, 'percentages' contains the percentages of each value count\n",
    "print(percentages.astype(str) + ' %')"
   ]
  },
  {
   "cell_type": "markdown",
   "id": "3f529ff2",
   "metadata": {},
   "source": [
    "### <span style='color:Blue'> *Insights:* </span>\n",
    "\n",
    "\n",
    "1. **Count**: There are a total of 128,975 records in the 'Size' column, representing the number of products or orders for which the size information is available.\n",
    "\n",
    "2. **Unique Sizes**: Among these records, there are 11 unique sizes. This indicates that there are 11 different product sizes represented in the dataset.\n",
    "\n",
    "3. **Top Size**: The most frequently occurring size in the dataset is 'M,' which appears 22,711 times. This suggests that 'M' is the most common size among the products in your dataset.\n",
    "\n",
    "4. **Size Distribution**: The dataset provides a distribution of products across different sizes, with 'M,' 'L,' and 'XL' being the most common sizes. These sizes have relatively high frequencies, indicating that they are popular choices among customers.\n",
    "\n",
    "5. **Size Variability**: The dataset also includes less common sizes such as 'XS,' '6XL,' '5XL,' '4XL,' and 'Free.' These sizes have lower frequencies, suggesting that they may represent niche or less common size options.\n",
    "\n",
    "6. **Size Percentages**: The percentage distribution of sizes provides a clear view of the popularity of each size category. The top five sizes ('M,' 'L,' 'XL,' 'XXL,' and 'S') collectively account for a significant portion of the dataset, while the less common sizes have lower percentages.\n"
   ]
  },
  {
   "cell_type": "markdown",
   "id": "908be0b7",
   "metadata": {},
   "source": [
    "# Exploring ASIN column"
   ]
  },
  {
   "cell_type": "code",
   "execution_count": 45,
   "id": "428fb1e0",
   "metadata": {},
   "outputs": [
    {
     "data": {
      "text/plain": [
       "count         128975\n",
       "unique          7190\n",
       "top       B09SDXFFQ1\n",
       "freq             773\n",
       "Name: ASIN, dtype: object"
      ]
     },
     "execution_count": 45,
     "metadata": {},
     "output_type": "execute_result"
    }
   ],
   "source": [
    "#\"Amazon Standard Identification Number \n",
    "df['ASIN'].describe()"
   ]
  },
  {
   "cell_type": "code",
   "execution_count": 46,
   "id": "4fbb4218",
   "metadata": {},
   "outputs": [
    {
     "data": {
      "text/plain": [
       "B09SDXFFQ1    773\n",
       "B09SDY8DCT    657\n",
       "B09SDYQ3WG    587\n",
       "B081WSCKPQ    535\n",
       "B08XNJG8B1    507\n",
       "             ... \n",
       "B08QGLTM6G      1\n",
       "B08W8DBLXF      1\n",
       "B09TL1F68S      1\n",
       "B07MY3MVW3      1\n",
       "B07N81TFNY      1\n",
       "Name: ASIN, Length: 7190, dtype: int64"
      ]
     },
     "execution_count": 46,
     "metadata": {},
     "output_type": "execute_result"
    }
   ],
   "source": [
    "#value counts\n",
    "df['ASIN'].value_counts()"
   ]
  },
  {
   "cell_type": "markdown",
   "id": "df737866",
   "metadata": {},
   "source": [
    "### <span style='color:Blue'> *Insights:* </span>\n",
    "\n",
    "ASIN stands for \"Amazon Standard Identification Number.\" It is a unique 10-character alphanumeric identifier that Amazon assigns to products in its catalog. ASINs are primarily used by Amazon to manage and track products within their vast marketplace. Each product listing on Amazon is associated with a specific ASIN.\n",
    "\n",
    "1. **Count**: There are a total of 128,975 records in the 'ASIN' column, representing the number of products or orders for which the ASIN information is available.\n",
    "\n",
    "2. **Unique ASINs**: Among these records, there are 7,190 unique ASINs. This indicates that there are 7,190 different Amazon Standard Identification Numbers (ASINs) represented in the dataset.\n",
    "\n",
    "3. **Top ASIN**: The most frequently occurring ASIN in the dataset is 'B09SDXFFQ1,' which appears 773 times. This suggests that 'B09SDXFFQ1' is a commonly used ASIN among the products in your dataset.\n",
    "\n",
    "4. **ASIN Distribution**: The dataset provides a distribution of products across different ASINs, with various ASINs having varying frequencies. Some ASINs, like 'B09SDY8DCT' and 'B09SDYQ3WG,' also have relatively high frequencies.\n",
    "\n",
    "5. **ASIN Popularity**: The frequency counts of ASINs can help identify popular products or product variants that are ordered more frequently.\n",
    "\n",
    "6. **Diversity of ASINs**: The presence of multiple unique ASINs (7,190) suggests that there is a wide range of products or product variations represented in your dataset, each with its own unique identifier.\n",
    "\n"
   ]
  },
  {
   "cell_type": "markdown",
   "id": "d7f1130a",
   "metadata": {},
   "source": [
    "# Exploring Courier Status column"
   ]
  },
  {
   "cell_type": "code",
   "execution_count": 48,
   "id": "d5d8bb16",
   "metadata": {},
   "outputs": [
    {
     "data": {
      "text/plain": [
       "count      122103\n",
       "unique          3\n",
       "top       Shipped\n",
       "freq       109487\n",
       "Name: Courier Status, dtype: object"
      ]
     },
     "execution_count": 48,
     "metadata": {},
     "output_type": "execute_result"
    }
   ],
   "source": [
    "# Courier Status\n",
    "df['Courier Status'].describe()"
   ]
  },
  {
   "cell_type": "code",
   "execution_count": 49,
   "id": "2da72076",
   "metadata": {},
   "outputs": [
    {
     "data": {
      "text/plain": [
       "Shipped      109487\n",
       "Unshipped      6681\n",
       "Cancelled      5935\n",
       "Name: Courier Status, dtype: int64"
      ]
     },
     "execution_count": 49,
     "metadata": {},
     "output_type": "execute_result"
    }
   ],
   "source": [
    "#value counts\n",
    "df['Courier Status'].value_counts()"
   ]
  },
  {
   "cell_type": "code",
   "execution_count": 89,
   "id": "c317a6ed",
   "metadata": {},
   "outputs": [
    {
     "data": {
      "image/png": "[encoded data removed]",
      "text/plain": [
       "<Figure size 432x432 with 1 Axes>"
      ]
     },
     "metadata": {},
     "output_type": "display_data"
    }
   ],
   "source": [
    "\n",
    "courier_status_counts = df['Courier Status'].value_counts()\n",
    "\n",
    "# Create a pie plot\n",
    "plt.figure(figsize=(6, 6))  # Adjust the figure size if needed\n",
    "plt.pie(courier_status_counts, labels=courier_status_counts.index, autopct='%1.1f%%', startangle=140, textprops={'fontsize': 14})  # Increase font size\n",
    "\n",
    "# Customize the plot\n",
    "plt.title('Courier Status Distribution', fontsize=16)  \n",
    "\n",
    "# Display the plot\n",
    "plt.axis('equal')  # Equal aspect ratio ensures that the pie is drawn as a circle\n",
    "plt.show()\n"
   ]
  },
  {
   "cell_type": "markdown",
   "id": "215299d6",
   "metadata": {},
   "source": [
    "### <span style='color:Blue'> *Insights:* </span>\n",
    "\n",
    "89% orders in dataset have shipped status , 5.5% are unshipped and 4.9% are cancelled "
   ]
  },
  {
   "cell_type": "markdown",
   "id": "b08e70c3",
   "metadata": {},
   "source": [
    "# Exploring Quantity column"
   ]
  },
  {
   "cell_type": "code",
   "execution_count": 51,
   "id": "97047ca1",
   "metadata": {},
   "outputs": [
    {
     "data": {
      "text/plain": [
       "count    128975.000000\n",
       "mean          0.904431\n",
       "std           0.313354\n",
       "min           0.000000\n",
       "25%           1.000000\n",
       "50%           1.000000\n",
       "75%           1.000000\n",
       "max          15.000000\n",
       "Name: Qty, dtype: float64"
      ]
     },
     "execution_count": 51,
     "metadata": {},
     "output_type": "execute_result"
    }
   ],
   "source": [
    "#Quantity column description\n",
    "df['Qty'].describe()"
   ]
  },
  {
   "cell_type": "code",
   "execution_count": 52,
   "id": "7aff230a",
   "metadata": {},
   "outputs": [
    {
     "data": {
      "text/plain": [
       "1     115780\n",
       "0      12807\n",
       "2        341\n",
       "3         32\n",
       "4          9\n",
       "5          2\n",
       "15         1\n",
       "9          1\n",
       "13         1\n",
       "8          1\n",
       "Name: Qty, dtype: int64"
      ]
     },
     "execution_count": 52,
     "metadata": {},
     "output_type": "execute_result"
    }
   ],
   "source": [
    "#value counts\n",
    "df['Qty'].value_counts()"
   ]
  },
  {
   "cell_type": "code",
   "execution_count": 54,
   "id": "6d1c6aa6",
   "metadata": {},
   "outputs": [
    {
     "name": "stdout",
     "output_type": "stream",
     "text": [
      "1     89.769 %\n",
      "0       9.93 %\n",
      "2      0.264 %\n",
      "3      0.025 %\n",
      "4      0.007 %\n",
      "5      0.002 %\n",
      "15     0.001 %\n",
      "9      0.001 %\n",
      "13     0.001 %\n",
      "8      0.001 %\n",
      "Name: Qty, dtype: object\n"
     ]
    }
   ],
   "source": [
    "value_counts = df['Qty'].value_counts()\n",
    "percentages = round((value_counts / len(df)) * 100, 3)\n",
    "\n",
    "# Now, 'percentages' contains the percentages of each value count\n",
    "print(percentages.astype(str) + ' %')"
   ]
  },
  {
   "cell_type": "markdown",
   "id": "d2bd5c01",
   "metadata": {},
   "source": [
    "### <span style='color:Blue'> *Insights:* </span>\n",
    "\n",
    "1. **Average Quantity**: On average, the quantity of products ordered is approximately 1, which means that the typical order consists one product.\n",
    "\n",
    "2. **Maximum Quantity**: The maximum quantity is 15, indicating that some orders include a relatively large number of products.\n",
    "\n",
    "3. **Variability**: There is a wide range of quantities in the dataset, with some orders having quantities of 2, 3, 4, 5, and even as high as 15. However, these higher quantities are less common.\n",
    "\n",
    "4. **Percentage Breakdown**: The percentage breakdown of quantity values provides insight into the distribution of order sizes. The majority of orders (approximately 89.77%) have a quantity of 1. Orders with a quantity of 0 (9.93%) represent canceled  orders, while orders with higher quantities are less common.\n",
    "\n"
   ]
  },
  {
   "cell_type": "markdown",
   "id": "93914199",
   "metadata": {},
   "source": [
    "# Exploring currency column"
   ]
  },
  {
   "cell_type": "code",
   "execution_count": 55,
   "id": "a4da8f35",
   "metadata": {},
   "outputs": [
    {
     "data": {
      "text/plain": [
       "count     121180\n",
       "unique         1\n",
       "top          INR\n",
       "freq      121180\n",
       "Name: currency, dtype: object"
      ]
     },
     "execution_count": 55,
     "metadata": {},
     "output_type": "execute_result"
    }
   ],
   "source": [
    "df['currency'].describe()"
   ]
  },
  {
   "cell_type": "markdown",
   "id": "3069e19b",
   "metadata": {},
   "source": [
    "### <span style='color:Blue'> *Insights:* </span>\n",
    "\n",
    "Currency used for all the orders is INR"
   ]
  },
  {
   "cell_type": "markdown",
   "id": "740c0c28",
   "metadata": {},
   "source": [
    "# Exploring Amount column"
   ]
  },
  {
   "cell_type": "code",
   "execution_count": 56,
   "id": "edec0e25",
   "metadata": {},
   "outputs": [
    {
     "data": {
      "text/plain": [
       "count    121180.000000\n",
       "mean        648.561465\n",
       "std         281.211687\n",
       "min           0.000000\n",
       "25%         449.000000\n",
       "50%         605.000000\n",
       "75%         788.000000\n",
       "max        5584.000000\n",
       "Name: Amount, dtype: float64"
      ]
     },
     "execution_count": 56,
     "metadata": {},
     "output_type": "execute_result"
    }
   ],
   "source": [
    "#descriptive stats of amount column\n",
    "df['Amount'].describe()"
   ]
  },
  {
   "cell_type": "code",
   "execution_count": 57,
   "id": "122981c0",
   "metadata": {},
   "outputs": [
    {
     "data": {
      "text/plain": [
       "399.00    5442\n",
       "771.00    2797\n",
       "735.00    2436\n",
       "0.00      2343\n",
       "487.00    2293\n",
       "          ... \n",
       "558.10       1\n",
       "551.42       1\n",
       "973.00       1\n",
       "727.60       1\n",
       "639.00       1\n",
       "Name: Amount, Length: 1410, dtype: int64"
      ]
     },
     "execution_count": 57,
     "metadata": {},
     "output_type": "execute_result"
    }
   ],
   "source": [
    "#value counts\n",
    "df['Amount'].value_counts()"
   ]
  },
  {
   "cell_type": "code",
   "execution_count": 59,
   "id": "fcb5c01b",
   "metadata": {},
   "outputs": [
    {
     "name": "stdout",
     "output_type": "stream",
     "text": [
      "399.0    5442\n",
      "771.0    2797\n",
      "735.0    2436\n",
      "0.0      2343\n",
      "487.0    2293\n",
      "788.0    1969\n",
      "301.0    1865\n",
      "376.0    1810\n",
      "635.0    1787\n",
      "999.0    1615\n",
      "Name: Amount, dtype: int64\n"
     ]
    }
   ],
   "source": [
    "top_10_Order_Amounts = df['Amount'].value_counts().head(10)\n",
    "\n",
    "print(top_10_Order_Amounts)"
   ]
  },
  {
   "cell_type": "code",
   "execution_count": 60,
   "id": "c21fa3d7",
   "metadata": {},
   "outputs": [
    {
     "name": "stdout",
     "output_type": "stream",
     "text": [
      "399.00    4.219 %\n",
      "771.00    2.169 %\n",
      "735.00    1.889 %\n",
      "0.00      1.817 %\n",
      "487.00    1.778 %\n",
      "           ...   \n",
      "558.10    0.001 %\n",
      "551.42    0.001 %\n",
      "973.00    0.001 %\n",
      "727.60    0.001 %\n",
      "639.00    0.001 %\n",
      "Name: Amount, Length: 1410, dtype: object\n"
     ]
    }
   ],
   "source": [
    "value_counts = df['Amount'].value_counts()\n",
    "percentages = round((value_counts / len(df)) * 100, 3)\n",
    "\n",
    "# Now, 'percentages' contains the percentages of each value count\n",
    "print(percentages.astype(str) + ' %')"
   ]
  },
  {
   "cell_type": "markdown",
   "id": "5f9c4e81",
   "metadata": {},
   "source": [
    "### <span style='color:Blue'> *Insights:* </span>\n",
    "\n",
    "1. **Average Amount**: The average transaction amount is approximately 648.56, indicating the typical or mean value of transactions in dataset.\n",
    "\n",
    "2. **Minimum Amount**: The minimum transaction amount is 0.0, These represent cases of canceled transactions.\n",
    "\n",
    "3. **Maximum Amount**: The maximum transaction amount is 5,584.0, indicating that some transactions involve a relatively high monetary value.\n",
    "\n",
    "4. **Amount Distribution**: The dataset provides a distribution of transaction amounts, with a wide range of values. The 25th percentile (Q1) is 449.0, the median (Q2 or 50th percentile) is 605.0, and the 75th percentile (Q3) is 788.0. These quartiles help understand the spread of transaction amounts.\n",
    "\n",
    "5. **Variability**: The standard deviation (std) of approximately 281.21 indicates that there is some variability in transaction amounts. Some transactions are significantly higher or lower than the mean.\n",
    "\n",
    "\n",
    "- Many transactions have amounts that fall within the 25th to 75th percentile range (449.0 to 788.0), indicating typical transaction values.\n",
    "- The top three transaction amounts are 399.0, 771.0, and 735.0, which are the most common transaction values in the dataset.\n"
   ]
  },
  {
   "cell_type": "markdown",
   "id": "81d31f48",
   "metadata": {},
   "source": [
    "# Exploring ship-city column"
   ]
  },
  {
   "cell_type": "code",
   "execution_count": 61,
   "id": "cbb28d47",
   "metadata": {},
   "outputs": [
    {
     "data": {
      "text/plain": [
       "count        128942\n",
       "unique         8955\n",
       "top       BENGALURU\n",
       "freq          11217\n",
       "Name: ship-city, dtype: object"
      ]
     },
     "execution_count": 61,
     "metadata": {},
     "output_type": "execute_result"
    }
   ],
   "source": [
    "#descriptive stats of ship-city column\n",
    "df['ship-city'].describe()"
   ]
  },
  {
   "cell_type": "code",
   "execution_count": 62,
   "id": "5b3fa60c",
   "metadata": {},
   "outputs": [
    {
     "data": {
      "text/plain": [
       "BENGALURU                                      11217\n",
       "HYDERABAD                                       8074\n",
       "MUMBAI                                          6126\n",
       "NEW DELHI                                       5795\n",
       "CHENNAI                                         5421\n",
       "                                               ...  \n",
       "Khandavalli, peravali mandal, west godavari        1\n",
       "Bhayander west                                     1\n",
       "JAKHALMANDI                                        1\n",
       "Arariya                                            1\n",
       "Halol                                              1\n",
       "Name: ship-city, Length: 8955, dtype: int64"
      ]
     },
     "execution_count": 62,
     "metadata": {},
     "output_type": "execute_result"
    }
   ],
   "source": [
    "# ship-city value counts\n",
    "df['ship-city'].value_counts() "
   ]
  },
  {
   "cell_type": "code",
   "execution_count": 64,
   "id": "225d034d",
   "metadata": {},
   "outputs": [
    {
     "name": "stdout",
     "output_type": "stream",
     "text": [
      "BENGALURU    11217\n",
      "HYDERABAD     8074\n",
      "MUMBAI        6126\n",
      "NEW DELHI     5795\n",
      "CHENNAI       5421\n",
      "PUNE          3857\n",
      "KOLKATA       2381\n",
      "GURUGRAM      1868\n",
      "THANE         1701\n",
      "LUCKNOW       1458\n",
      "Name: ship-city, dtype: int64\n"
     ]
    }
   ],
   "source": [
    "top_10_ship_citys = df['ship-city'].value_counts().head(10)\n",
    "\n",
    "print(top_10_ship_citys)"
   ]
  },
  {
   "cell_type": "code",
   "execution_count": 92,
   "id": "4afd12da",
   "metadata": {},
   "outputs": [
    {
     "data": {
      "image/png": "[encoded data removed]",
      "text/plain": [
       "<Figure size 1008x360 with 1 Axes>"
      ]
     },
     "metadata": {
      "needs_background": "light"
     },
     "output_type": "display_data"
    }
   ],
   "source": [
    "top_10_ship_citys = df['ship-city'].value_counts().head(10)\n",
    "\n",
    "# Set a custom color palette (you can choose from Seaborn palettes)\n",
    "custom_palette = sns.color_palette(\"dark\") \n",
    "\n",
    "# Create a horizontal bar plot\n",
    "plt.figure(figsize=(14, 5))  # Adjust the figure size if needed\n",
    "sns.barplot(x=top_10_ship_citys.values, y=top_10_ship_citys.index, palette=custom_palette)\n",
    "\n",
    "# Customize the plot\n",
    "plt.title('Top 10 Shipping Cities', fontsize=16)  \n",
    "plt.xlabel('Count', fontsize=12)  \n",
    "plt.ylabel('City', fontsize=12)  \n",
    "plt.xticks(fontsize=12)  \n",
    "plt.yticks(fontsize=12)  \n",
    "\n",
    "# Display the plot\n",
    "plt.show()"
   ]
  },
  {
   "cell_type": "code",
   "execution_count": 65,
   "id": "315243ad",
   "metadata": {},
   "outputs": [
    {
     "name": "stdout",
     "output_type": "stream",
     "text": [
      "BENGALURU                                      8.697 %\n",
      "HYDERABAD                                       6.26 %\n",
      "MUMBAI                                          4.75 %\n",
      "NEW DELHI                                      4.493 %\n",
      "CHENNAI                                        4.203 %\n",
      "                                                ...   \n",
      "Khandavalli, peravali mandal, west godavari    0.001 %\n",
      "Bhayander west                                 0.001 %\n",
      "JAKHALMANDI                                    0.001 %\n",
      "Arariya                                        0.001 %\n",
      "Halol                                          0.001 %\n",
      "Name: ship-city, Length: 8955, dtype: object\n"
     ]
    }
   ],
   "source": [
    "value_counts = df['ship-city'].value_counts()\n",
    "percentages = round((value_counts / len(df)) * 100, 3)\n",
    "\n",
    "# Now, 'percentages' contains the percentages of each value count\n",
    "print(percentages.astype(str) + ' %')"
   ]
  },
  {
   "cell_type": "markdown",
   "id": "6aef7b12",
   "metadata": {},
   "source": [
    "### <span style='color:Blue'> *Insights:* </span>\n",
    "\n",
    "The provided information about the 'ship-city' column in your dataset gives us the following insights:\n",
    "\n",
    "1. **Unique Cities**: Among 128,942 records in the 'ship-city', there are 8,955 unique cities. \n",
    "\n",
    "2. **Top Shipping City**: The most frequently occurring shipping city in the dataset is 'BENGALURU,' which appears 11,217 times. \n",
    "\n",
    "3. **City Distribution**: The dataset provides a distribution of shipping cities, with various cities having varying frequencies. Some cities, like 'HYDERABAD,' 'MUMBAI,' 'NEW DELHI,' and 'CHENNAI,' also have relatively high frequencies.\n",
    "\n",
    "- 'BENGALURU' is the most common shipping destination, accounting for approximately 8.697% of all shipments in the dataset.\n",
    "- 'HYDERABAD,' 'MUMBAI,' 'NEW DELHI,' and 'CHENNAI' are also popular shipping destinations, each representing a significant percentage of shipments.\n",
    "- The dataset includes a diverse range of shipping cities, with a total of 8,955 unique cities."
   ]
  },
  {
   "cell_type": "markdown",
   "id": "47f50d62",
   "metadata": {},
   "source": [
    "# Exploring ship-state column"
   ]
  },
  {
   "cell_type": "code",
   "execution_count": 66,
   "id": "23d04ef1",
   "metadata": {},
   "outputs": [
    {
     "data": {
      "text/plain": [
       "count          128942\n",
       "unique             69\n",
       "top       MAHARASHTRA\n",
       "freq            22260\n",
       "Name: ship-state, dtype: object"
      ]
     },
     "execution_count": 66,
     "metadata": {},
     "output_type": "execute_result"
    }
   ],
   "source": [
    "#descriptive stats of ship-city column\n",
    "df['ship-state'].describe()"
   ]
  },
  {
   "cell_type": "code",
   "execution_count": 67,
   "id": "400796f9",
   "metadata": {},
   "outputs": [
    {
     "name": "stdout",
     "output_type": "stream",
     "text": [
      "MAHARASHTRA       22260\n",
      "KARNATAKA         17326\n",
      "TAMIL NADU        11483\n",
      "TELANGANA         11330\n",
      "UTTAR PRADESH     10638\n",
      "DELHI              6782\n",
      "KERALA             6585\n",
      "WEST BENGAL        5963\n",
      "ANDHRA PRADESH     5430\n",
      "Gujarat            4489\n",
      "Name: ship-state, dtype: int64\n"
     ]
    }
   ],
   "source": [
    "top_10_ship_states = df['ship-state'].value_counts().head(10)\n",
    "\n",
    "print(top_10_ship_states)"
   ]
  },
  {
   "cell_type": "code",
   "execution_count": 94,
   "id": "f22dcfc6",
   "metadata": {},
   "outputs": [
    {
     "data": {
      "image/png": "[encoded data removed]",
      "text/plain": [
       "<Figure size 1008x360 with 1 Axes>"
      ]
     },
     "metadata": {
      "needs_background": "light"
     },
     "output_type": "display_data"
    }
   ],
   "source": [
    "top_10_ship_citys = df['ship-state'].value_counts().head(10)\n",
    "\n",
    "# Set a custom color palette (you can choose from Seaborn palettes)\n",
    "custom_palette = sns.color_palette(\"Set1\") \n",
    "\n",
    "# Create a horizontal bar plot\n",
    "plt.figure(figsize=(14, 5))  # Adjust the figure size if needed\n",
    "sns.barplot(x=top_10_ship_citys.values, y=top_10_ship_citys.index, palette=custom_palette)\n",
    "\n",
    "# Customize the plot\n",
    "plt.title('Top 10 Shipping States', fontsize=16)  \n",
    "plt.xlabel('Count', fontsize=12)  \n",
    "plt.ylabel('City', fontsize=12)  \n",
    "plt.xticks(fontsize=12)  \n",
    "plt.yticks(fontsize=12)  \n",
    "\n",
    "# Display the plot\n",
    "plt.show()"
   ]
  },
  {
   "cell_type": "code",
   "execution_count": 68,
   "id": "2b434126",
   "metadata": {},
   "outputs": [
    {
     "name": "stdout",
     "output_type": "stream",
     "text": [
      "MAHARASHTRA               17.259 %\n",
      "KARNATAKA                 13.434 %\n",
      "TAMIL NADU                 8.903 %\n",
      "TELANGANA                  8.785 %\n",
      "UTTAR PRADESH              8.248 %\n",
      "                            ...   \n",
      "Mizoram                    0.001 %\n",
      "rajsthan                   0.001 %\n",
      "Punjab/Mohali/Zirakpur     0.001 %\n",
      "Rajsthan                   0.001 %\n",
      "orissa                     0.001 %\n",
      "Name: ship-state, Length: 69, dtype: object\n"
     ]
    }
   ],
   "source": [
    "value_counts = df['ship-state'].value_counts()\n",
    "percentages = round((value_counts / len(df)) * 100, 3)\n",
    "\n",
    "# Now, 'percentages' contains the percentages of each value count\n",
    "print(percentages.astype(str) + ' %')"
   ]
  },
  {
   "cell_type": "markdown",
   "id": "fd70b7c5",
   "metadata": {},
   "source": [
    "### <span style='color:Blue'> *Insights:* </span>\n",
    "\n",
    "\n",
    "1. **Unique States/Regions**: Among 128,942 records in the 'ship-state' column, there are 69 unique states or regions. \n",
    "\n",
    "2. **Top Shipping State/Region**: The most frequently occurring shipping state/region in the dataset is 'MAHARASHTRA,' which appears 22,260 times. \n",
    "\n",
    "3. **State/Region Distribution**: The dataset provides a distribution of shipping states/regions, with various states/regions having varying frequencies. Some states/regions, like 'KARNATAKA,' 'TAMIL NADU,' 'TELANGANA,' and 'UTTAR PRADESH,' also have relatively high frequencies."
   ]
  },
  {
   "cell_type": "markdown",
   "id": "fb0cb03e",
   "metadata": {},
   "source": [
    "# Exploring ship-postal-code column"
   ]
  },
  {
   "cell_type": "code",
   "execution_count": 71,
   "id": "725077a7",
   "metadata": {},
   "outputs": [
    {
     "name": "stdout",
     "output_type": "stream",
     "text": [
      "201301.0    1006\n",
      "122001.0     688\n",
      "560037.0     632\n",
      "560068.0     619\n",
      "560076.0     581\n",
      "560043.0     500\n",
      "401107.0     493\n",
      "500072.0     490\n",
      "560100.0     489\n",
      "560066.0     464\n",
      "Name: ship-postal-code, dtype: int64\n"
     ]
    }
   ],
   "source": [
    "top_10_ship_postal_code = df['ship-postal-code'].value_counts().head(10)\n",
    "\n",
    "print(top_10_ship_postal_code)"
   ]
  },
  {
   "cell_type": "markdown",
   "id": "90ff46cd",
   "metadata": {},
   "source": [
    "### <span style='color:Blue'> *Insights:* </span>\n",
    "\n",
    "\n",
    "1. **201301**: This PIN code correspond to an area in Uttar Pradesh, possibly in Noida or a nearby locality.\n",
    "\n",
    "2. **122001**: This PIN code correspond to Gurugram (formerly Gurgaon) in Haryana.\n",
    "\n",
    "3. **560037**: This PIN code likely corresponds to Bangalore (Bengaluru), Karnataka.\n",
    "\n",
    "4. **560068**: This is another PIN code associated with Bangalore (Bengaluru), Karnataka.\n",
    "\n",
    "5. **560076**: Similarly, this PIN code is also linked to Bangalore (Bengaluru), Karnataka.\n",
    "\n",
    " Noida has 1,006 orders, Gurugram has 688 orders, and Bangalore has 632 orders. in top 10 postal codes of Bangalore occured more indicating more orders are placed from Bangalore."
   ]
  },
  {
   "cell_type": "markdown",
   "id": "a6b92241",
   "metadata": {},
   "source": [
    "# Exploring ship-country column"
   ]
  },
  {
   "cell_type": "code",
   "execution_count": 72,
   "id": "a5fb9d82",
   "metadata": {},
   "outputs": [
    {
     "data": {
      "text/plain": [
       "count     128942\n",
       "unique         1\n",
       "top           IN\n",
       "freq      128942\n",
       "Name: ship-country, dtype: object"
      ]
     },
     "execution_count": 72,
     "metadata": {},
     "output_type": "execute_result"
    }
   ],
   "source": [
    "#descriptive stats of ship column\n",
    "df['ship-country'].describe()"
   ]
  },
  {
   "cell_type": "markdown",
   "id": "e95ec41e",
   "metadata": {},
   "source": [
    "### <span style='color:Blue'> *Insights:* </span>\n",
    "The dataset has all the orders that were ordered from India"
   ]
  },
  {
   "cell_type": "markdown",
   "id": "25fa6547",
   "metadata": {},
   "source": [
    "# Exploring promotion-ids  column"
   ]
  },
  {
   "cell_type": "code",
   "execution_count": 73,
   "id": "7e217edf",
   "metadata": {},
   "outputs": [
    {
     "data": {
      "text/plain": [
       "count                                            79822\n",
       "unique                                            5787\n",
       "top       IN Core Free Shipping 2015/04/08 23-48-5-108\n",
       "freq                                             46100\n",
       "Name: promotion-ids, dtype: object"
      ]
     },
     "execution_count": 73,
     "metadata": {},
     "output_type": "execute_result"
    }
   ],
   "source": [
    "#descriptive stats of promotion-ids column\n",
    "df['promotion-ids'].describe()"
   ]
  },
  {
   "cell_type": "markdown",
   "id": "3933dd83",
   "metadata": {},
   "source": [
    "### <span style='color:Blue'> *Insights:* </span>\n",
    "\n",
    "1. Out of 128975 orders during this period , promotion ids were used 79822 times.\n",
    "\n",
    "2. Unique Promotions: There are 5,787 unique promotion IDs in the dataset, indicating that there are multiple promotions applied to different orders.\n",
    "\n",
    "3. Top Promotion: The most frequently occurring promotion ID is \"IN Core Free Shipping 2015/04/08 23-48-5-108,\" which appears 46,100 times. "
   ]
  },
  {
   "cell_type": "markdown",
   "id": "4a6f9470",
   "metadata": {},
   "source": [
    "# Exploring B2B   column"
   ]
  },
  {
   "cell_type": "code",
   "execution_count": 80,
   "id": "a925b9ac",
   "metadata": {},
   "outputs": [
    {
     "data": {
      "text/plain": [
       "count     128975\n",
       "unique         2\n",
       "top        False\n",
       "freq      128104\n",
       "Name: B2B, dtype: object"
      ]
     },
     "execution_count": 80,
     "metadata": {},
     "output_type": "execute_result"
    }
   ],
   "source": [
    "#descriptive stats of B2B column\n",
    "df['B2B'].describe()"
   ]
  },
  {
   "cell_type": "code",
   "execution_count": 79,
   "id": "a806e59b",
   "metadata": {},
   "outputs": [
    {
     "data": {
      "text/plain": [
       "False    128104\n",
       "True        871\n",
       "Name: B2B, dtype: int64"
      ]
     },
     "execution_count": 79,
     "metadata": {},
     "output_type": "execute_result"
    }
   ],
   "source": [
    "df['B2B'].value_counts()"
   ]
  },
  {
   "cell_type": "markdown",
   "id": "be3c3d5f",
   "metadata": {},
   "source": [
    "### <span style='color:Blue'> *Insights:* </span>\n",
    "\n",
    "Out of 128975 orders , 871 are B2B orders."
   ]
  },
  {
   "cell_type": "markdown",
   "id": "00cbac01",
   "metadata": {},
   "source": [
    "# Exploring fulfilled-by  column"
   ]
  },
  {
   "cell_type": "code",
   "execution_count": 81,
   "id": "56a0ffae",
   "metadata": {},
   "outputs": [
    {
     "data": {
      "text/plain": [
       "count         39277\n",
       "unique            1\n",
       "top       Easy Ship\n",
       "freq          39277\n",
       "Name: fulfilled-by, dtype: object"
      ]
     },
     "execution_count": 81,
     "metadata": {},
     "output_type": "execute_result"
    }
   ],
   "source": [
    "#descriptive stats of fulfilled-by column\n",
    "df['fulfilled-by'].describe()"
   ]
  },
  {
   "cell_type": "markdown",
   "id": "753b4e1b",
   "metadata": {},
   "source": [
    "### <span style='color:Blue'> *Insights:* </span>\n",
    "Out of 128975 orders , 39277 orders are full filled by Easy ship"
   ]
  },
  {
   "cell_type": "markdown",
   "id": "40150129",
   "metadata": {},
   "source": [
    "## <span style='color:Blue'> *Conclusion:* </span> \n",
    "\n",
    "In conclusion, our comprehensive exploration of each column within the dataset has equipped us with a profound understanding of the statistical properties, distribution characteristics, and the valuable insights inherent in each attribute. Through this analysis, we have delved deep into the dataset's nuances, uncovering a wealth of information that each column has contributed to our understanding."
   ]
  },
  {
   "cell_type": "markdown",
   "id": "6b8c7467",
   "metadata": {},
   "source": [
    "## Thank you\n",
    "\n",
    "## -Raviteja"
   ]
  },
  {
   "cell_type": "markdown",
   "id": "14d35315",
   "metadata": {},
   "source": [
    "\n",
    "<img align=\"left\" img src= in.png height = 20 width=\"20\"/>   https://www.linkedin.com/in/raviteja-padala/ <br>\n",
    "\n",
    "<img align=\"left\" img src= github.png height = 20 width=\"20\"/> https://github.com/raviteja-padala\n"
   ]
  }
 ],
 "metadata": {
  "kernelspec": {
   "display_name": "Python 3 (ipykernel)",
   "language": "python",
   "name": "python3"
  },
  "language_info": {
   "codemirror_mode": {
    "name": "ipython",
    "version": 3
   },
   "file_extension": ".py",
   "mimetype": "text/x-python",
   "name": "python",
   "nbconvert_exporter": "python",
   "pygments_lexer": "ipython3",
   "version": "3.9.12"
  }
 },
 "nbformat": 4,
 "nbformat_minor": 5
}
